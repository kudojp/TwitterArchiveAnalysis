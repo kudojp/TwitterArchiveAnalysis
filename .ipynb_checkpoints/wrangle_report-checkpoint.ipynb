{
 "cells": [
  {
   "cell_type": "markdown",
   "metadata": {},
   "source": [
    "# \"We Rate Dogs\" Data Wranglin Report"
   ]
  },
  {
   "cell_type": "markdown",
   "metadata": {},
   "source": [
    "In this report, I show the flow of data wranging in detail."
   ]
  },
  {
   "cell_type": "markdown",
   "metadata": {},
   "source": [
    "## Gather"
   ]
  },
  {
   "cell_type": "markdown",
   "metadata": {},
   "source": [
    "I gathered these 3 datas needed and loaded in as a dataframe.\n",
    "\n",
    "* twitter-archive-enhanced.csv\n",
    "* image_predictions.tsv\n",
    "* Additional archieve data (fav coount and retweet cdount) from Twitter API\n",
    "This data was saved in the local directory as \"tweet_json.txt\" and loaded into notebook as \"df_api\")\n"
   ]
  },
  {
   "cell_type": "markdown",
   "metadata": {},
   "source": [
    "# Assess\n",
    "\n",
    "After assessing datasets visually and programatically, I found these problems which should be modified.\n",
    "\n",
    "###  Quality\n",
    "#### df_archive table\n",
    "* \"timestamp\" is a string not a datetime.\n",
    "* Rows of tweets which are later than 08/01 2017 should be removed.\n",
    "* Tweets which are original ratings should be extracted. \n",
    "* \"name\" column are unreliable, thus it should be delete.\n",
    "* 'rating_numerator' and 'rating_denominator' columns are not necessarily correctly extracted.\n",
    "* 'rating' column which represents ('rating_numerator / rating_denominator) should be created.\n",
    "* Stage columns ('doggo', 'floofer','pupper', 'puppo') are not necessarily correctly extracted.\n",
    "\n",
    "#### df_image table\n",
    "* Some pictures are predicted not as dogs. If a picture is not predicted as dog till the 3rd prediction, delete that row."
   ]
  },
  {
   "cell_type": "markdown",
   "metadata": {},
   "source": [
    "### Tidiness\n",
    "* \"df_api\" and \"df_image\" should be merged to \"df_archive\"\n",
    "* Dog stages in the archive data should be in 1 column.\n",
    "* We need only the most primary confident prediction of dog types from pictures, so make the column \"predicted dog type\" in place of p1~p3 predictions."
   ]
  },
  {
   "cell_type": "markdown",
   "metadata": {},
   "source": [
    "## Cleaning"
   ]
  },
  {
   "cell_type": "markdown",
   "metadata": {},
   "source": [
    "I cleaned the data in this order.  \n",
    "\n",
    "* make copy of 3 datasets which would be modified  \n",
    "\n",
    "\n",
    "* \"archieved_clean\" table\n",
    "  1. extract original tweets (not reply or retweet)\n",
    "  1. delete \"name\" column\n",
    "  1. convert \"timestamp\" datatype into datetime\n",
    "  1. remove tweets later than 08/01 2017\n",
    "  1. re-extract'rating_numerator' and 'rating_denominator' columns\n",
    "  1. create 'rating' column from them\n",
    "  1. make \"stage\" column which has categories 'doggo', 'floofer','pupper', 'puppo, 'blep' (as \"archieve_clean2\") \n",
    "  \n",
    "\n",
    "* \"image_clean\" table  \n",
    "  1. choose the most confidential dog_type from prediction 1~3, and make new column \"dog_type\" instead of them.\n",
    "  1. \"df_api\" and \"df_image\" should be merged to \"df_archive\"  \n",
    "\n",
    "\n",
    "* inner-marge 3 dataframes and name new one \"df\"  \n"
   ]
  },
  {
   "cell_type": "markdown",
   "metadata": {},
   "source": [
    "# Store\n",
    "* store \"df\" in csv-file \"twitter_archieve_master.csv\""
   ]
  }
 ],
 "metadata": {
  "kernelspec": {
   "display_name": "Python [default]",
   "language": "python",
   "name": "python3"
  },
  "language_info": {
   "codemirror_mode": {
    "name": "ipython",
    "version": 3
   },
   "file_extension": ".py",
   "mimetype": "text/x-python",
   "name": "python",
   "nbconvert_exporter": "python",
   "pygments_lexer": "ipython3",
   "version": "3.6.6"
  }
 },
 "nbformat": 4,
 "nbformat_minor": 2
}
