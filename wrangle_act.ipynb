{
 "cells": [
  {
   "cell_type": "markdown",
   "metadata": {},
   "source": [
    "\n",
    "# Project: \"We Rate Dogs\" Data Analysis\n",
    " \n",
    "## Table of Contents\n",
    "<ul>\n",
    "<li><a href=\"#intro\">Introduction</a></li>\n",
    "<li><a href=\"#wrangling\">Data Wrangling</a></li>\n",
    "<li><a href=\"#eda\">Exploratory Data Analysis</a></li>\n",
    "<li><a href=\"#conclusions\">Conclusions</a></li>\n",
    "<li><a href=\"#reference\">Reference</a></li>\n",
    "</ul>"
   ]
  },
  {
   "cell_type": "markdown",
   "metadata": {},
   "source": [
    "<a id='intro'></a>\n",
    "# Introduction\n",
    "\n",
    "> Twitter account 'WeRateDogs (@dog_rates)\" is famous for its unique tweets which evaluate dog pictures which are posted from readers. In this analysis, we get the tweets data from Twitter API and the additional data about pictures of those tweets and assess them. Specifically, we focus on 2 topics below\n",
    ">\n",
    "> * How the ratings are related with stages and types of dogs.\n",
    "> * Relationship between favorite counts and the ratings."
   ]
  },
  {
   "cell_type": "markdown",
   "metadata": {},
   "source": [
    "<a id='wrangling'></a>\n",
    "# Data Wrangling"
   ]
  },
  {
   "cell_type": "markdown",
   "metadata": {},
   "source": [
    "## Gather"
   ]
  },
  {
   "cell_type": "code",
   "execution_count": 2,
   "metadata": {},
   "outputs": [],
   "source": [
    "#import packages\n",
    "\n",
    "import pandas as pd\n",
    "import numpy as np\n",
    "import requests\n",
    "import tweepy\n",
    "import json\n",
    "import timeit\n",
    "import datetime\n",
    "import matplotlib.pyplot as plt\n",
    "import seaborn as sns\n",
    "import statsmodels.api as sm\n",
    "%matplotlib inline"
   ]
  },
  {
   "cell_type": "markdown",
   "metadata": {},
   "source": [
    "### Aquire Twitter archieve data"
   ]
  },
  {
   "cell_type": "code",
   "execution_count": 3,
   "metadata": {
    "scrolled": true
   },
   "outputs": [
    {
     "data": {
      "text/plain": [
       "Index(['tweet_id', 'in_reply_to_status_id', 'in_reply_to_user_id', 'timestamp',\n",
       "       'source', 'text', 'retweeted_status_id', 'retweeted_status_user_id',\n",
       "       'retweeted_status_timestamp', 'expanded_urls', 'rating_numerator',\n",
       "       'rating_denominator', 'name', 'doggo', 'floofer', 'pupper', 'puppo'],\n",
       "      dtype='object')"
      ]
     },
     "execution_count": 3,
     "metadata": {},
     "output_type": "execute_result"
    }
   ],
   "source": [
    "# read \"twitter-archive-enhanced.csv\" file\n",
    "df_archive = pd.read_csv(\"twitter-archive-enhanced.csv\")\n",
    "df_archive.columns"
   ]
  },
  {
   "cell_type": "markdown",
   "metadata": {},
   "source": [
    "### Acquire image-predictions data"
   ]
  },
  {
   "cell_type": "code",
   "execution_count": 4,
   "metadata": {},
   "outputs": [],
   "source": [
    "# download image prediction tsv file as \"image_predictions.tsv\" in the local directory\n",
    "url = \"https://d17h27t6h515a5.cloudfront.net/topher/2017/August/599fd2ad_image-predictions/image-predictions.tsv\"\n",
    "response = requests.get(url)\n",
    "\n",
    "with open(\"image_predictions.tsv\", mode=\"wb\") as file:\n",
    "    file.write(response.content)"
   ]
  },
  {
   "cell_type": "code",
   "execution_count": 5,
   "metadata": {},
   "outputs": [
    {
     "data": {
      "text/plain": [
       "Index(['tweet_id', 'jpg_url', 'img_num', 'p1', 'p1_conf', 'p1_dog', 'p2',\n",
       "       'p2_conf', 'p2_dog', 'p3', 'p3_conf', 'p3_dog'],\n",
       "      dtype='object')"
      ]
     },
     "execution_count": 5,
     "metadata": {},
     "output_type": "execute_result"
    }
   ],
   "source": [
    "# import the file into this notebook as a dataframe\n",
    "df_image = pd.read_csv(\"image_predictions.tsv\", sep=\"\\t\")\n",
    "df_image.columns"
   ]
  },
  {
   "cell_type": "markdown",
   "metadata": {},
   "source": [
    "### Acquire tweet json-file (from TwitterAPI) "
   ]
  },
  {
   "cell_type": "code",
   "execution_count": 6,
   "metadata": {},
   "outputs": [],
   "source": [
    "# get api using tweepy\n",
    "consumer_key = \"###\"\n",
    "consumer_secret = \"###\"\n",
    "access_token = \"###\"\n",
    "access_token_secret = \"###\"\n",
    "\n",
    "auth = tweepy.OAuthHandler(consumer_key, consumer_secret)\n",
    "auth.set_access_token(access_token, access_token_secret)\n",
    "api = tweepy.API(auth)"
   ]
  },
  {
   "cell_type": "code",
   "execution_count": 11,
   "metadata": {},
   "outputs": [
    {
     "name": "stdout",
     "output_type": "stream",
     "text": [
      "888202515573088257 : [{'code': 144, 'message': 'No status found with that ID.'}]\n",
      "873697596434513921 : [{'code': 144, 'message': 'No status found with that ID.'}]\n",
      "872668790621863937 : [{'code': 144, 'message': 'No status found with that ID.'}]\n",
      "869988702071779329 : [{'code': 144, 'message': 'No status found with that ID.'}]\n",
      "866816280283807744 : [{'code': 144, 'message': 'No status found with that ID.'}]\n"
     ]
    },
    {
     "name": "stderr",
     "output_type": "stream",
     "text": [
      "Rate limit reached. Sleeping for: 648\n"
     ]
    },
    {
     "name": "stdout",
     "output_type": "stream",
     "text": [
      "861769973181624320 : [{'code': 144, 'message': 'No status found with that ID.'}]\n",
      "845459076796616705 : [{'code': 144, 'message': 'No status found with that ID.'}]\n",
      "842892208864923648 : [{'code': 144, 'message': 'No status found with that ID.'}]\n",
      "837012587749474308 : [{'code': 144, 'message': 'No status found with that ID.'}]\n",
      "827228250799742977 : [{'code': 144, 'message': 'No status found with that ID.'}]\n",
      "802247111496568832 : [{'code': 144, 'message': 'No status found with that ID.'}]\n",
      "775096608509886464 : [{'code': 144, 'message': 'No status found with that ID.'}]\n",
      "771004394259247104 : [{'code': 179, 'message': 'Sorry, you are not authorized to see this status.'}]\n",
      "770743923962707968 : [{'code': 144, 'message': 'No status found with that ID.'}]\n",
      "754011816964026368 : [{'code': 144, 'message': 'No status found with that ID.'}]\n"
     ]
    },
    {
     "name": "stderr",
     "output_type": "stream",
     "text": [
      "Rate limit reached. Sleeping for: 647\n",
      "Rate limit reached. Sleeping for: 563\n"
     ]
    },
    {
     "name": "stdout",
     "output_type": "stream",
     "text": [
      "0.002290688003995456\n"
     ]
    }
   ],
   "source": [
    "# select tweets we need in api json and get \"retweet_count\"  and \"favorite_count\" information of each.\n",
    "# store them in the list\"data_list\"\n",
    "start = timeit.timeit()\n",
    "\n",
    "data_list = []\n",
    "for tweet_id in df_archive[\"tweet_id\"]:\n",
    "    try:\n",
    "        api_status = api.get_status(tweet_id, tweet_mode='extended', wait_on_rate_limit=True, wait_on_rate_limit_notify=True)\n",
    "        tweet_data = {}\n",
    "        tweet_data[\"tweet_id\"] = api_status._json[\"id\"]\n",
    "        tweet_data[\"ret\"] = api_status._json[\"retweet_count\"]\n",
    "        tweet_data[\"fav\"] = api_status._json[\"favorite_count\"]\n",
    "        data_list.append(tweet_data)\n",
    "    except Exception as e:\n",
    "        print(str(tweet_id) + \" : \" + str(e))\n",
    "        \n",
    "end = timeit.timeit()\n",
    "print(end - start)"
   ]
  },
  {
   "cell_type": "code",
   "execution_count": 59,
   "metadata": {},
   "outputs": [],
   "source": [
    "#  write the list in 'tweet_json.txt' (each element of tweet on each line in the file)\n",
    "with open('tweet_json.txt', 'w') as file:\n",
    "    for line in data_list:  \n",
    "        json.dump(line, file)\n",
    "        file.write(\"\\n\")"
   ]
  },
  {
   "cell_type": "code",
   "execution_count": 7,
   "metadata": {},
   "outputs": [],
   "source": [
    "# load 'tweet_json.txt' and store it in the list \"json_list\" (each element of this list is a json data of each tweet)\n",
    "# this list should be the same as the list\"data_list\"\n",
    "json_list = []\n",
    "with open('tweet_json.txt','r') as file:\n",
    "    for line in file:\n",
    "        json_list.append(json.loads(line))"
   ]
  },
  {
   "cell_type": "code",
   "execution_count": 8,
   "metadata": {},
   "outputs": [
    {
     "data": {
      "text/plain": [
       "Index(['ret', 'fav', 'tweet_id'], dtype='object')"
      ]
     },
     "execution_count": 8,
     "metadata": {},
     "output_type": "execute_result"
    }
   ],
   "source": [
    "# construct dataframe from the list \"json_list\" and sort columns\n",
    "df_api = pd.DataFrame(json_list)\n",
    "df_api = df_api.iloc[:,[1,0,2]]\n",
    "df_api.columns"
   ]
  },
  {
   "cell_type": "markdown",
   "metadata": {},
   "source": [
    "## Assess"
   ]
  },
  {
   "cell_type": "code",
   "execution_count": 9,
   "metadata": {},
   "outputs": [
    {
     "data": {
      "text/html": [
       "<div>\n",
       "<style scoped>\n",
       "    .dataframe tbody tr th:only-of-type {\n",
       "        vertical-align: middle;\n",
       "    }\n",
       "\n",
       "    .dataframe tbody tr th {\n",
       "        vertical-align: top;\n",
       "    }\n",
       "\n",
       "    .dataframe thead th {\n",
       "        text-align: right;\n",
       "    }\n",
       "</style>\n",
       "<table border=\"1\" class=\"dataframe\">\n",
       "  <thead>\n",
       "    <tr style=\"text-align: right;\">\n",
       "      <th></th>\n",
       "      <th>tweet_id</th>\n",
       "      <th>in_reply_to_status_id</th>\n",
       "      <th>in_reply_to_user_id</th>\n",
       "      <th>timestamp</th>\n",
       "      <th>source</th>\n",
       "      <th>text</th>\n",
       "      <th>retweeted_status_id</th>\n",
       "      <th>retweeted_status_user_id</th>\n",
       "      <th>retweeted_status_timestamp</th>\n",
       "      <th>expanded_urls</th>\n",
       "      <th>rating_numerator</th>\n",
       "      <th>rating_denominator</th>\n",
       "      <th>name</th>\n",
       "      <th>doggo</th>\n",
       "      <th>floofer</th>\n",
       "      <th>pupper</th>\n",
       "      <th>puppo</th>\n",
       "    </tr>\n",
       "  </thead>\n",
       "  <tbody>\n",
       "    <tr>\n",
       "      <th>0</th>\n",
       "      <td>892420643555336193</td>\n",
       "      <td>NaN</td>\n",
       "      <td>NaN</td>\n",
       "      <td>2017-08-01 16:23:56 +0000</td>\n",
       "      <td>&lt;a href=\"http://twitter.com/download/iphone\" r...</td>\n",
       "      <td>This is Phineas. He's a mystical boy. Only eve...</td>\n",
       "      <td>NaN</td>\n",
       "      <td>NaN</td>\n",
       "      <td>NaN</td>\n",
       "      <td>https://twitter.com/dog_rates/status/892420643...</td>\n",
       "      <td>13</td>\n",
       "      <td>10</td>\n",
       "      <td>Phineas</td>\n",
       "      <td>None</td>\n",
       "      <td>None</td>\n",
       "      <td>None</td>\n",
       "      <td>None</td>\n",
       "    </tr>\n",
       "    <tr>\n",
       "      <th>1</th>\n",
       "      <td>892177421306343426</td>\n",
       "      <td>NaN</td>\n",
       "      <td>NaN</td>\n",
       "      <td>2017-08-01 00:17:27 +0000</td>\n",
       "      <td>&lt;a href=\"http://twitter.com/download/iphone\" r...</td>\n",
       "      <td>This is Tilly. She's just checking pup on you....</td>\n",
       "      <td>NaN</td>\n",
       "      <td>NaN</td>\n",
       "      <td>NaN</td>\n",
       "      <td>https://twitter.com/dog_rates/status/892177421...</td>\n",
       "      <td>13</td>\n",
       "      <td>10</td>\n",
       "      <td>Tilly</td>\n",
       "      <td>None</td>\n",
       "      <td>None</td>\n",
       "      <td>None</td>\n",
       "      <td>None</td>\n",
       "    </tr>\n",
       "    <tr>\n",
       "      <th>2</th>\n",
       "      <td>891815181378084864</td>\n",
       "      <td>NaN</td>\n",
       "      <td>NaN</td>\n",
       "      <td>2017-07-31 00:18:03 +0000</td>\n",
       "      <td>&lt;a href=\"http://twitter.com/download/iphone\" r...</td>\n",
       "      <td>This is Archie. He is a rare Norwegian Pouncin...</td>\n",
       "      <td>NaN</td>\n",
       "      <td>NaN</td>\n",
       "      <td>NaN</td>\n",
       "      <td>https://twitter.com/dog_rates/status/891815181...</td>\n",
       "      <td>12</td>\n",
       "      <td>10</td>\n",
       "      <td>Archie</td>\n",
       "      <td>None</td>\n",
       "      <td>None</td>\n",
       "      <td>None</td>\n",
       "      <td>None</td>\n",
       "    </tr>\n",
       "    <tr>\n",
       "      <th>3</th>\n",
       "      <td>891689557279858688</td>\n",
       "      <td>NaN</td>\n",
       "      <td>NaN</td>\n",
       "      <td>2017-07-30 15:58:51 +0000</td>\n",
       "      <td>&lt;a href=\"http://twitter.com/download/iphone\" r...</td>\n",
       "      <td>This is Darla. She commenced a snooze mid meal...</td>\n",
       "      <td>NaN</td>\n",
       "      <td>NaN</td>\n",
       "      <td>NaN</td>\n",
       "      <td>https://twitter.com/dog_rates/status/891689557...</td>\n",
       "      <td>13</td>\n",
       "      <td>10</td>\n",
       "      <td>Darla</td>\n",
       "      <td>None</td>\n",
       "      <td>None</td>\n",
       "      <td>None</td>\n",
       "      <td>None</td>\n",
       "    </tr>\n",
       "    <tr>\n",
       "      <th>4</th>\n",
       "      <td>891327558926688256</td>\n",
       "      <td>NaN</td>\n",
       "      <td>NaN</td>\n",
       "      <td>2017-07-29 16:00:24 +0000</td>\n",
       "      <td>&lt;a href=\"http://twitter.com/download/iphone\" r...</td>\n",
       "      <td>This is Franklin. He would like you to stop ca...</td>\n",
       "      <td>NaN</td>\n",
       "      <td>NaN</td>\n",
       "      <td>NaN</td>\n",
       "      <td>https://twitter.com/dog_rates/status/891327558...</td>\n",
       "      <td>12</td>\n",
       "      <td>10</td>\n",
       "      <td>Franklin</td>\n",
       "      <td>None</td>\n",
       "      <td>None</td>\n",
       "      <td>None</td>\n",
       "      <td>None</td>\n",
       "    </tr>\n",
       "  </tbody>\n",
       "</table>\n",
       "</div>"
      ],
      "text/plain": [
       "             tweet_id  in_reply_to_status_id  in_reply_to_user_id  \\\n",
       "0  892420643555336193                    NaN                  NaN   \n",
       "1  892177421306343426                    NaN                  NaN   \n",
       "2  891815181378084864                    NaN                  NaN   \n",
       "3  891689557279858688                    NaN                  NaN   \n",
       "4  891327558926688256                    NaN                  NaN   \n",
       "\n",
       "                   timestamp  \\\n",
       "0  2017-08-01 16:23:56 +0000   \n",
       "1  2017-08-01 00:17:27 +0000   \n",
       "2  2017-07-31 00:18:03 +0000   \n",
       "3  2017-07-30 15:58:51 +0000   \n",
       "4  2017-07-29 16:00:24 +0000   \n",
       "\n",
       "                                              source  \\\n",
       "0  <a href=\"http://twitter.com/download/iphone\" r...   \n",
       "1  <a href=\"http://twitter.com/download/iphone\" r...   \n",
       "2  <a href=\"http://twitter.com/download/iphone\" r...   \n",
       "3  <a href=\"http://twitter.com/download/iphone\" r...   \n",
       "4  <a href=\"http://twitter.com/download/iphone\" r...   \n",
       "\n",
       "                                                text  retweeted_status_id  \\\n",
       "0  This is Phineas. He's a mystical boy. Only eve...                  NaN   \n",
       "1  This is Tilly. She's just checking pup on you....                  NaN   \n",
       "2  This is Archie. He is a rare Norwegian Pouncin...                  NaN   \n",
       "3  This is Darla. She commenced a snooze mid meal...                  NaN   \n",
       "4  This is Franklin. He would like you to stop ca...                  NaN   \n",
       "\n",
       "   retweeted_status_user_id retweeted_status_timestamp  \\\n",
       "0                       NaN                        NaN   \n",
       "1                       NaN                        NaN   \n",
       "2                       NaN                        NaN   \n",
       "3                       NaN                        NaN   \n",
       "4                       NaN                        NaN   \n",
       "\n",
       "                                       expanded_urls  rating_numerator  \\\n",
       "0  https://twitter.com/dog_rates/status/892420643...                13   \n",
       "1  https://twitter.com/dog_rates/status/892177421...                13   \n",
       "2  https://twitter.com/dog_rates/status/891815181...                12   \n",
       "3  https://twitter.com/dog_rates/status/891689557...                13   \n",
       "4  https://twitter.com/dog_rates/status/891327558...                12   \n",
       "\n",
       "   rating_denominator      name doggo floofer pupper puppo  \n",
       "0                  10   Phineas  None    None   None  None  \n",
       "1                  10     Tilly  None    None   None  None  \n",
       "2                  10    Archie  None    None   None  None  \n",
       "3                  10     Darla  None    None   None  None  \n",
       "4                  10  Franklin  None    None   None  None  "
      ]
     },
     "execution_count": 9,
     "metadata": {},
     "output_type": "execute_result"
    }
   ],
   "source": [
    "# visual assessment\n",
    "df_archive.head(5)"
   ]
  },
  {
   "cell_type": "code",
   "execution_count": 10,
   "metadata": {},
   "outputs": [
    {
     "name": "stdout",
     "output_type": "stream",
     "text": [
      "<class 'pandas.core.frame.DataFrame'>\n",
      "RangeIndex: 2356 entries, 0 to 2355\n",
      "Data columns (total 17 columns):\n",
      "tweet_id                      2356 non-null int64\n",
      "in_reply_to_status_id         78 non-null float64\n",
      "in_reply_to_user_id           78 non-null float64\n",
      "timestamp                     2356 non-null object\n",
      "source                        2356 non-null object\n",
      "text                          2356 non-null object\n",
      "retweeted_status_id           181 non-null float64\n",
      "retweeted_status_user_id      181 non-null float64\n",
      "retweeted_status_timestamp    181 non-null object\n",
      "expanded_urls                 2297 non-null object\n",
      "rating_numerator              2356 non-null int64\n",
      "rating_denominator            2356 non-null int64\n",
      "name                          2356 non-null object\n",
      "doggo                         2356 non-null object\n",
      "floofer                       2356 non-null object\n",
      "pupper                        2356 non-null object\n",
      "puppo                         2356 non-null object\n",
      "dtypes: float64(4), int64(3), object(10)\n",
      "memory usage: 313.0+ KB\n"
     ]
    }
   ],
   "source": [
    "df_archive.info()"
   ]
  },
  {
   "cell_type": "code",
   "execution_count": 11,
   "metadata": {},
   "outputs": [
    {
     "data": {
      "text/html": [
       "<div>\n",
       "<style scoped>\n",
       "    .dataframe tbody tr th:only-of-type {\n",
       "        vertical-align: middle;\n",
       "    }\n",
       "\n",
       "    .dataframe tbody tr th {\n",
       "        vertical-align: top;\n",
       "    }\n",
       "\n",
       "    .dataframe thead th {\n",
       "        text-align: right;\n",
       "    }\n",
       "</style>\n",
       "<table border=\"1\" class=\"dataframe\">\n",
       "  <thead>\n",
       "    <tr style=\"text-align: right;\">\n",
       "      <th></th>\n",
       "      <th>ret</th>\n",
       "      <th>fav</th>\n",
       "      <th>tweet_id</th>\n",
       "    </tr>\n",
       "  </thead>\n",
       "  <tbody>\n",
       "    <tr>\n",
       "      <th>686</th>\n",
       "      <td>3432</td>\n",
       "      <td>10145</td>\n",
       "      <td>786595970293370880</td>\n",
       "    </tr>\n",
       "    <tr>\n",
       "      <th>1584</th>\n",
       "      <td>1259</td>\n",
       "      <td>3303</td>\n",
       "      <td>686034024800862208</td>\n",
       "    </tr>\n",
       "    <tr>\n",
       "      <th>1734</th>\n",
       "      <td>734</td>\n",
       "      <td>2372</td>\n",
       "      <td>679047485189439488</td>\n",
       "    </tr>\n",
       "    <tr>\n",
       "      <th>1939</th>\n",
       "      <td>253</td>\n",
       "      <td>737</td>\n",
       "      <td>673656262056419329</td>\n",
       "    </tr>\n",
       "    <tr>\n",
       "      <th>1353</th>\n",
       "      <td>1028</td>\n",
       "      <td>3036</td>\n",
       "      <td>702539513671897089</td>\n",
       "    </tr>\n",
       "  </tbody>\n",
       "</table>\n",
       "</div>"
      ],
      "text/plain": [
       "       ret    fav            tweet_id\n",
       "686   3432  10145  786595970293370880\n",
       "1584  1259   3303  686034024800862208\n",
       "1734   734   2372  679047485189439488\n",
       "1939   253    737  673656262056419329\n",
       "1353  1028   3036  702539513671897089"
      ]
     },
     "execution_count": 11,
     "metadata": {},
     "output_type": "execute_result"
    }
   ],
   "source": [
    "# visual assessment\n",
    "df_api.sample(5)"
   ]
  },
  {
   "cell_type": "code",
   "execution_count": 12,
   "metadata": {},
   "outputs": [
    {
     "name": "stdout",
     "output_type": "stream",
     "text": [
      "<class 'pandas.core.frame.DataFrame'>\n",
      "RangeIndex: 2341 entries, 0 to 2340\n",
      "Data columns (total 3 columns):\n",
      "ret         2341 non-null int64\n",
      "fav         2341 non-null int64\n",
      "tweet_id    2341 non-null int64\n",
      "dtypes: int64(3)\n",
      "memory usage: 54.9 KB\n"
     ]
    }
   ],
   "source": [
    "df_api.info()"
   ]
  },
  {
   "cell_type": "code",
   "execution_count": 13,
   "metadata": {},
   "outputs": [
    {
     "data": {
      "text/html": [
       "<div>\n",
       "<style scoped>\n",
       "    .dataframe tbody tr th:only-of-type {\n",
       "        vertical-align: middle;\n",
       "    }\n",
       "\n",
       "    .dataframe tbody tr th {\n",
       "        vertical-align: top;\n",
       "    }\n",
       "\n",
       "    .dataframe thead th {\n",
       "        text-align: right;\n",
       "    }\n",
       "</style>\n",
       "<table border=\"1\" class=\"dataframe\">\n",
       "  <thead>\n",
       "    <tr style=\"text-align: right;\">\n",
       "      <th></th>\n",
       "      <th>tweet_id</th>\n",
       "      <th>jpg_url</th>\n",
       "      <th>img_num</th>\n",
       "      <th>p1</th>\n",
       "      <th>p1_conf</th>\n",
       "      <th>p1_dog</th>\n",
       "      <th>p2</th>\n",
       "      <th>p2_conf</th>\n",
       "      <th>p2_dog</th>\n",
       "      <th>p3</th>\n",
       "      <th>p3_conf</th>\n",
       "      <th>p3_dog</th>\n",
       "    </tr>\n",
       "  </thead>\n",
       "  <tbody>\n",
       "    <tr>\n",
       "      <th>1215</th>\n",
       "      <td>743510151680958465</td>\n",
       "      <td>https://pbs.twimg.com/ext_tw_video_thumb/74350...</td>\n",
       "      <td>1</td>\n",
       "      <td>sea_lion</td>\n",
       "      <td>0.859046</td>\n",
       "      <td>False</td>\n",
       "      <td>tub</td>\n",
       "      <td>0.020405</td>\n",
       "      <td>False</td>\n",
       "      <td>hippopotamus</td>\n",
       "      <td>0.013095</td>\n",
       "      <td>False</td>\n",
       "    </tr>\n",
       "    <tr>\n",
       "      <th>1522</th>\n",
       "      <td>788070120937619456</td>\n",
       "      <td>https://pbs.twimg.com/media/Co-hmcYXYAASkiG.jpg</td>\n",
       "      <td>1</td>\n",
       "      <td>golden_retriever</td>\n",
       "      <td>0.735163</td>\n",
       "      <td>True</td>\n",
       "      <td>Sussex_spaniel</td>\n",
       "      <td>0.064897</td>\n",
       "      <td>True</td>\n",
       "      <td>Labrador_retriever</td>\n",
       "      <td>0.047704</td>\n",
       "      <td>True</td>\n",
       "    </tr>\n",
       "    <tr>\n",
       "      <th>649</th>\n",
       "      <td>681891461017812993</td>\n",
       "      <td>https://pbs.twimg.com/media/CXaQqGbWMAAKEgN.jpg</td>\n",
       "      <td>1</td>\n",
       "      <td>Chihuahua</td>\n",
       "      <td>0.203570</td>\n",
       "      <td>True</td>\n",
       "      <td>doormat</td>\n",
       "      <td>0.134316</td>\n",
       "      <td>False</td>\n",
       "      <td>toy_terrier</td>\n",
       "      <td>0.084482</td>\n",
       "      <td>True</td>\n",
       "    </tr>\n",
       "    <tr>\n",
       "      <th>1491</th>\n",
       "      <td>782747134529531904</td>\n",
       "      <td>https://pbs.twimg.com/media/CtzgXgeXYAA1Gxw.jpg</td>\n",
       "      <td>1</td>\n",
       "      <td>golden_retriever</td>\n",
       "      <td>0.560699</td>\n",
       "      <td>True</td>\n",
       "      <td>otterhound</td>\n",
       "      <td>0.199482</td>\n",
       "      <td>True</td>\n",
       "      <td>clumber</td>\n",
       "      <td>0.040682</td>\n",
       "      <td>True</td>\n",
       "    </tr>\n",
       "    <tr>\n",
       "      <th>845</th>\n",
       "      <td>695095422348574720</td>\n",
       "      <td>https://pbs.twimg.com/media/CaV5mRDXEAAR8iG.jpg</td>\n",
       "      <td>1</td>\n",
       "      <td>papillon</td>\n",
       "      <td>0.227784</td>\n",
       "      <td>True</td>\n",
       "      <td>Chihuahua</td>\n",
       "      <td>0.218128</td>\n",
       "      <td>True</td>\n",
       "      <td>Border_collie</td>\n",
       "      <td>0.093457</td>\n",
       "      <td>True</td>\n",
       "    </tr>\n",
       "  </tbody>\n",
       "</table>\n",
       "</div>"
      ],
      "text/plain": [
       "                tweet_id                                            jpg_url  \\\n",
       "1215  743510151680958465  https://pbs.twimg.com/ext_tw_video_thumb/74350...   \n",
       "1522  788070120937619456    https://pbs.twimg.com/media/Co-hmcYXYAASkiG.jpg   \n",
       "649   681891461017812993    https://pbs.twimg.com/media/CXaQqGbWMAAKEgN.jpg   \n",
       "1491  782747134529531904    https://pbs.twimg.com/media/CtzgXgeXYAA1Gxw.jpg   \n",
       "845   695095422348574720    https://pbs.twimg.com/media/CaV5mRDXEAAR8iG.jpg   \n",
       "\n",
       "      img_num                p1   p1_conf  p1_dog              p2   p2_conf  \\\n",
       "1215        1          sea_lion  0.859046   False             tub  0.020405   \n",
       "1522        1  golden_retriever  0.735163    True  Sussex_spaniel  0.064897   \n",
       "649         1         Chihuahua  0.203570    True         doormat  0.134316   \n",
       "1491        1  golden_retriever  0.560699    True      otterhound  0.199482   \n",
       "845         1          papillon  0.227784    True       Chihuahua  0.218128   \n",
       "\n",
       "      p2_dog                  p3   p3_conf  p3_dog  \n",
       "1215   False        hippopotamus  0.013095   False  \n",
       "1522    True  Labrador_retriever  0.047704    True  \n",
       "649    False         toy_terrier  0.084482    True  \n",
       "1491    True             clumber  0.040682    True  \n",
       "845     True       Border_collie  0.093457    True  "
      ]
     },
     "execution_count": 13,
     "metadata": {},
     "output_type": "execute_result"
    }
   ],
   "source": [
    "# visual assessment\n",
    "df_image.sample(5)"
   ]
  },
  {
   "cell_type": "code",
   "execution_count": 14,
   "metadata": {},
   "outputs": [
    {
     "name": "stdout",
     "output_type": "stream",
     "text": [
      "<class 'pandas.core.frame.DataFrame'>\n",
      "RangeIndex: 2075 entries, 0 to 2074\n",
      "Data columns (total 12 columns):\n",
      "tweet_id    2075 non-null int64\n",
      "jpg_url     2075 non-null object\n",
      "img_num     2075 non-null int64\n",
      "p1          2075 non-null object\n",
      "p1_conf     2075 non-null float64\n",
      "p1_dog      2075 non-null bool\n",
      "p2          2075 non-null object\n",
      "p2_conf     2075 non-null float64\n",
      "p2_dog      2075 non-null bool\n",
      "p3          2075 non-null object\n",
      "p3_conf     2075 non-null float64\n",
      "p3_dog      2075 non-null bool\n",
      "dtypes: bool(3), float64(3), int64(2), object(4)\n",
      "memory usage: 152.1+ KB\n"
     ]
    }
   ],
   "source": [
    "df_image.info()"
   ]
  },
  {
   "cell_type": "markdown",
   "metadata": {},
   "source": [
    "### Quality\n",
    "#### df_archive table\n",
    "* \"timestamp\" is a string not a datetime.\n",
    "* Rows of tweets which are later than 08/01 2017 should be removed.\n",
    "* Tweets which are original ratings should be extracted. \n",
    "* \"name\" column are unreliable, thus it should be delete.\n",
    "* 'rating_numerator' and 'rating_denominator' columns are not necessarily correctly extracted.\n",
    "* 'rating' column which represents ('rating_numerator / rating_denominator) should be created.\n",
    "* Stage columns ('doggo', 'floofer','pupper', 'puppo') are not necessarily correctly extracted.\n",
    "\n",
    "#### df_image table\n",
    "* Some pictures are predicted not as dogs. If a picture is not predicted as dog till the 3rd prediction, delete that row."
   ]
  },
  {
   "cell_type": "markdown",
   "metadata": {},
   "source": [
    "### Tidiness\n",
    "* \"df_api\" and \"df_image\" should be merged to \"df_archive\"\n",
    "* Dog stages in the archive data should be in 1 column.\n",
    "* We need only the most primary confident prediction of dog types from pictures, so make the column \"predicted dog type\" in place of p1~p3 predictions."
   ]
  },
  {
   "cell_type": "markdown",
   "metadata": {},
   "source": [
    "## Clean"
   ]
  },
  {
   "cell_type": "code",
   "execution_count": 15,
   "metadata": {},
   "outputs": [],
   "source": [
    "# copy the dataframes for the following cleanness\n",
    "archive_clean = df_archive.copy()\n",
    "image_clean = df_image.copy()\n",
    "api_clean = df_api.copy()"
   ]
  },
  {
   "cell_type": "markdown",
   "metadata": {},
   "source": [
    "### Tweets which are original should be extracted from archive table."
   ]
  },
  {
   "cell_type": "code",
   "execution_count": 16,
   "metadata": {},
   "outputs": [
    {
     "name": "stdout",
     "output_type": "stream",
     "text": [
      "<class 'pandas.core.frame.DataFrame'>\n",
      "Int64Index: 2097 entries, 0 to 2355\n",
      "Data columns (total 17 columns):\n",
      "tweet_id                      2097 non-null int64\n",
      "in_reply_to_status_id         0 non-null float64\n",
      "in_reply_to_user_id           0 non-null float64\n",
      "timestamp                     2097 non-null object\n",
      "source                        2097 non-null object\n",
      "text                          2097 non-null object\n",
      "retweeted_status_id           0 non-null float64\n",
      "retweeted_status_user_id      0 non-null float64\n",
      "retweeted_status_timestamp    0 non-null object\n",
      "expanded_urls                 2094 non-null object\n",
      "rating_numerator              2097 non-null int64\n",
      "rating_denominator            2097 non-null int64\n",
      "name                          2097 non-null object\n",
      "doggo                         2097 non-null object\n",
      "floofer                       2097 non-null object\n",
      "pupper                        2097 non-null object\n",
      "puppo                         2097 non-null object\n",
      "dtypes: float64(4), int64(3), object(10)\n",
      "memory usage: 294.9+ KB\n"
     ]
    }
   ],
   "source": [
    "# use .query method to extract rows whose both \"in_reply_to_status_id\" and \"retweeted_status_id\" are NaN\n",
    "archive_clean = archive_clean[archive_clean.in_reply_to_status_id.isnull() & archive_clean.retweeted_status_id.isnull()]\n",
    "archive_clean.info()"
   ]
  },
  {
   "cell_type": "code",
   "execution_count": 17,
   "metadata": {
    "scrolled": true
   },
   "outputs": [],
   "source": [
    "# remove columns related to \"in_reply_status\" or \"retweeted_status\" which is no longer necessary\n",
    "archive_clean = archive_clean.drop(columns=[\"in_reply_to_status_id\",\"in_reply_to_user_id\",\n",
    "                            \"retweeted_status_id\",\"retweeted_status_user_id\",\"retweeted_status_timestamp\"])"
   ]
  },
  {
   "cell_type": "code",
   "execution_count": 18,
   "metadata": {
    "scrolled": false
   },
   "outputs": [
    {
     "name": "stdout",
     "output_type": "stream",
     "text": [
      "<class 'pandas.core.frame.DataFrame'>\n",
      "Int64Index: 2097 entries, 0 to 2355\n",
      "Data columns (total 12 columns):\n",
      "tweet_id              2097 non-null int64\n",
      "timestamp             2097 non-null object\n",
      "source                2097 non-null object\n",
      "text                  2097 non-null object\n",
      "expanded_urls         2094 non-null object\n",
      "rating_numerator      2097 non-null int64\n",
      "rating_denominator    2097 non-null int64\n",
      "name                  2097 non-null object\n",
      "doggo                 2097 non-null object\n",
      "floofer               2097 non-null object\n",
      "pupper                2097 non-null object\n",
      "puppo                 2097 non-null object\n",
      "dtypes: int64(3), object(9)\n",
      "memory usage: 213.0+ KB\n"
     ]
    }
   ],
   "source": [
    "# check columns\n",
    "archive_clean.info()"
   ]
  },
  {
   "cell_type": "code",
   "execution_count": 19,
   "metadata": {},
   "outputs": [
    {
     "data": {
      "text/plain": [
       "Index(['tweet_id', 'timestamp', 'source', 'text', 'expanded_urls',\n",
       "       'rating_numerator', 'rating_denominator', 'name', 'doggo', 'floofer',\n",
       "       'pupper', 'puppo'],\n",
       "      dtype='object')"
      ]
     },
     "execution_count": 19,
     "metadata": {},
     "output_type": "execute_result"
    }
   ],
   "source": [
    "archive_clean.columns"
   ]
  },
  {
   "cell_type": "markdown",
   "metadata": {},
   "source": [
    "### \"name\" column in archive data is not necessarily in this analysis so delete this."
   ]
  },
  {
   "cell_type": "code",
   "execution_count": 20,
   "metadata": {},
   "outputs": [],
   "source": [
    "# use drop() method\n",
    "archive_clean = archive_clean.drop(columns=\"name\")"
   ]
  },
  {
   "cell_type": "code",
   "execution_count": 21,
   "metadata": {},
   "outputs": [],
   "source": [
    "# confirm that there is no column named \"name\" now.\n",
    "assert \"name\" not in archive_clean.columns"
   ]
  },
  {
   "cell_type": "markdown",
   "metadata": {},
   "source": [
    "### \"timestamp\" in archive data is a string not a datetime."
   ]
  },
  {
   "cell_type": "code",
   "execution_count": 22,
   "metadata": {},
   "outputs": [],
   "source": [
    "# use pd.to_datetime() function to convert the data type.\n",
    "archive_clean.timestamp = pd.to_datetime(archive_clean.timestamp)"
   ]
  },
  {
   "cell_type": "code",
   "execution_count": 23,
   "metadata": {},
   "outputs": [
    {
     "data": {
      "text/plain": [
       "count                    2097\n",
       "unique                   2097\n",
       "top       2016-09-12 15:10:21\n",
       "freq                        1\n",
       "first     2015-11-15 22:32:08\n",
       "last      2017-08-01 16:23:56\n",
       "Name: timestamp, dtype: object"
      ]
     },
     "execution_count": 23,
     "metadata": {},
     "output_type": "execute_result"
    }
   ],
   "source": [
    "# confirm it was converted properly and the term in it is possible\n",
    "archive_clean.timestamp.describe()"
   ]
  },
  {
   "cell_type": "markdown",
   "metadata": {},
   "source": [
    "### Rows of tweets which are later than 08/01 2017 should be removed from archive data."
   ]
  },
  {
   "cell_type": "code",
   "execution_count": 24,
   "metadata": {},
   "outputs": [],
   "source": [
    "# use query() method to extract rows \n",
    "archive_clean = archive_clean.query('timestamp < datetime.date(2017, 8, 1)')"
   ]
  },
  {
   "cell_type": "code",
   "execution_count": 25,
   "metadata": {
    "scrolled": true
   },
   "outputs": [
    {
     "data": {
      "text/plain": [
       "count                    2095\n",
       "unique                   2095\n",
       "top       2016-09-12 15:10:21\n",
       "freq                        1\n",
       "first     2015-11-15 22:32:08\n",
       "last      2017-07-31 00:18:03\n",
       "Name: timestamp, dtype: object"
      ]
     },
     "execution_count": 25,
     "metadata": {},
     "output_type": "execute_result"
    }
   ],
   "source": [
    "# confirm the latest tweet information in archive data is earlier than  08/01 2017\n",
    "archive_clean.timestamp.describe()"
   ]
  },
  {
   "cell_type": "markdown",
   "metadata": {},
   "source": [
    "### 'rating_numerator' and 'rating_denominator' columns in archive data are not necessarily correctly extracted."
   ]
  },
  {
   "cell_type": "markdown",
   "metadata": {},
   "source": [
    "#### Definition\n",
    "\n",
    "> We take a look at \"text\" column in the archieve data. We can assume that ratings are in the form of fractions, so extract the fractions as ratings.\n",
    ">\n",
    "> However, we will assess texts of tweets visually in the case where the texts have 2 or more fractions.\n",
    ">\n",
    "> When we find that there are 2 or more different dogs' ratings in 1 tweet in this process, delete the tweet because it can be misguiding."
   ]
  },
  {
   "cell_type": "code",
   "execution_count": 26,
   "metadata": {},
   "outputs": [
    {
     "data": {
      "text/plain": [
       "0    0\n",
       "dtype: int64"
      ]
     },
     "execution_count": 26,
     "metadata": {},
     "output_type": "execute_result"
    }
   ],
   "source": [
    "# Firstly, extract the first fraction which appears in the \"text\" and confirm that we could do it from all rows.\n",
    "fractions = archive_clean.text.str.extract(r'([0-9]+[.]*[0-9]*[/][0-9]+)')\n",
    "fractions.isnull().sum()"
   ]
  },
  {
   "cell_type": "code",
   "execution_count": 27,
   "metadata": {},
   "outputs": [
    {
     "data": {
      "text/plain": [
       "dtype('float64')"
      ]
     },
     "execution_count": 27,
     "metadata": {},
     "output_type": "execute_result"
    }
   ],
   "source": [
    "# split the fractions into numerators and denominators\n",
    "f_nume, f_deno = fractions.iloc[:,0].str.split(\"/\").str\n",
    "archive_clean.rating_numerator = f_nume.astype(float)\n",
    "archive_clean.rating_denominator = f_deno.astype(float)\n",
    "archive_clean.rating_denominator.dtype"
   ]
  },
  {
   "cell_type": "code",
   "execution_count": 28,
   "metadata": {},
   "outputs": [
    {
     "name": "stdout",
     "output_type": "stream",
     "text": [
      "[766, 1007, 1068, 1165, 1202, 1222, 1359, 1459, 1465, 1508, 1525, 1538, 1662, 1795, 1832, 1897, 1901, 1970, 2010, 2010, 2064, 2113, 2177, 2216, 2263, 2272, 2306, 2335]\n",
      "<class 'pandas.core.frame.DataFrame'>\n",
      "Int64Index: 2095 entries, 2 to 2355\n",
      "Data columns (total 11 columns):\n",
      "tweet_id              2095 non-null int64\n",
      "timestamp             2095 non-null datetime64[ns]\n",
      "source                2095 non-null object\n",
      "text                  2095 non-null object\n",
      "expanded_urls         2092 non-null object\n",
      "rating_numerator      2095 non-null float64\n",
      "rating_denominator    2095 non-null float64\n",
      "doggo                 2095 non-null object\n",
      "floofer               2095 non-null object\n",
      "pupper                2095 non-null object\n",
      "puppo                 2095 non-null object\n",
      "dtypes: datetime64[ns](1), float64(2), int64(1), object(7)\n",
      "memory usage: 196.4+ KB\n"
     ]
    }
   ],
   "source": [
    "# extract fractions from \"text\" column using .str.extractall().\n",
    "# If there are 2 or more than \"text\" column, assess each row one by one.\n",
    "pd.options.display.max_colwidth = 150\n",
    "\n",
    "ratings = archive_clean.text.str.extractall(r'([0-9]+[.]*[0-9]*[/][0-9]+)')\n",
    "\n",
    "list_duplicated = []    # list of index whose rows have 2 or more fractions  the \"text\"\n",
    "for multi_index in ratings.index:\n",
    "    if multi_index[1] != 0:\n",
    "        list_duplicated.append(multi_index[0])\n",
    "        \n",
    "print(list_duplicated)\n",
    "archive_clean.info()"
   ]
  },
  {
   "cell_type": "code",
   "execution_count": 29,
   "metadata": {
    "scrolled": true
   },
   "outputs": [
    {
     "data": {
      "text/plain": [
       "766                                     \"Yep... just as I suspected. You're not flossing.\" 12/10 and 11/10 for the pup not flossing https://t.co/SuXcI9B7pQ\n",
       "1007                       This is Bookstore and Seaweed. Bookstore is tired and Seaweed is an asshole. 10/10 and 7/10 respectively https://t.co/eUGjGjjFVJ\n",
       "1068           After so many requests, this is Bretagne. She was the last surviving 9/11 search dog, and our second ever 14/10. RIP https://t.co/XAVDNDaVgQ\n",
       "1165                                                                                       Happy 4/20 from the squad! 13/10 for all https://t.co/eV1diwds8a\n",
       "1202                                  This is Bluebert. He just saw that both #FinalFur match ups are split 50/50. Amazed af. 11/10 https://t.co/Kky1DPG4iq\n",
       "1222       Meet Travis and Flurp. Travis is pretty chill but Flurp can't lie down properly. 10/10 &amp; 8/10\\nget it together Flurp https://t.co/Akzl5ynMmE\n",
       "1359                 This is Socks. That water pup w the super legs just splashed him. Socks did not appreciate that. 9/10 and 2/10 https://t.co/8rc5I22bBf\n",
       "1459             This may be the greatest video I've ever been sent. 4/10 for Charles the puppy, 13/10 overall. (Vid by @stevenxx_) https://t.co/uaJmNgXR2P\n",
       "1465    Meet Oliviér. He takes killer selfies. Has a dog of his own. It leaps at random &amp; can't bark for shit. 10/10 &amp; 5/10 https://t.co/6NgsQJuSBJ\n",
       "1508       When bae says they can't go out but you see them with someone else that same night. 5/10 &amp; 10/10 for heartbroken pup https://t.co/aenk0KpoWM\n",
       "1525         This is Eriq. His friend just reminded him of last year's super bowl. Not cool friend\\n10/10 for Eriq\\n6/10 for friend https://t.co/PlEXTofdpf\n",
       "1538    Meet Fynn &amp; Taco. Fynn is an all-powerful leaf lord and Taco is in the wrong place at the wrong time. 11/10 &amp; 10/10 https://t.co/MuqHPvtL8c\n",
       "1662            This is Darrel. He just robbed a 7/11 and is in a high speed police chase. Was just spotted by the helicopter 10/10 https://t.co/7EsP8LmSp5\n",
       "1795      Meet Tassy &amp; Bee. Tassy is pretty chill, but Bee is convinced the Ruffles are haunted. 10/10 &amp; 11/10 respectively https://t.co/fgORpmTN9C\n",
       "1832              These two pups just met and have instantly bonded. Spectacular scene. Mesmerizing af. 10/10 and 7/10 for blue dog https://t.co/gwryaJO4tC\n",
       "1897       Meet Rufio. He is unaware of the pink legless pupper wrapped around him. Might want to get that checked 10/10 &amp; 4/10 https://t.co/KNfLnYPmYh\n",
       "1901          Two gorgeous dogs here. Little waddling dog is a rebel. Refuses to look at camera. Must be a preteen. 5/10 &amp; 8/10 https://t.co/YPfw7oahbD\n",
       "1970           Meet Eve. She's a raging alcoholic 8/10 (would b 11/10 but pupper alcoholism is a tragic issue that I can't condone) https://t.co/U36HYQIijg\n",
       "2010                                                        10/10 for dog. 7/10 for cat. 12/10 for human. Much skill. Would pet all https://t.co/uhx5gfpx5k\n",
       "2010                                                        10/10 for dog. 7/10 for cat. 12/10 for human. Much skill. Would pet all https://t.co/uhx5gfpx5k\n",
       "2064        Meet Holly. She's trying to teach small human-like pup about blocks but he's not paying attention smh. 11/10 &amp; 8/10 https://t.co/RcksaUrGNu\n",
       "2113                Meet Hank and Sully. Hank is very proud of the pumpkin they found and Sully doesn't give a shit. 11/10 and 8/10 https://t.co/cwoP1ftbrj\n",
       "2177          Here we have Pancho and Peaches. Pancho is a Condoleezza Gryffindor, and Peaches is just an asshole. 10/10 &amp; 7/10 https://t.co/Lh1BsJrWPp\n",
       "2216       This is Spark. He's nervous. Other dog hasn't moved in a while. Won't come when called. Doesn't fetch well 8/10&amp;1/10 https://t.co/stEodX9Aba\n",
       "2263            This is Kial. Kial is either wearing a cape, which would be rad, or flashing us, which would be rude. 10/10 or 4/10 https://t.co/8zcwIoiuqR\n",
       "2272             Two dogs in this one. Both are rare Jujitsu Pythagoreans. One slightly whiter than other. Long legs. 7/10 and 8/10 https://t.co/ITxxcc4v9y\n",
       "2306       These are Peruvian Feldspars. Their names are Cupit and Prencer. Both resemble Rand Paul. Sick outfits 10/10 &amp; 10/10 https://t.co/ZnEMHBsAs1\n",
       "2335               This is an Albanian 3 1/2 legged  Episcopalian. Loves well-polished hardwood flooring. Penis on the collar. 9/10 https://t.co/d9NcXFKwLv\n",
       "Name: text, dtype: object"
      ]
     },
     "execution_count": 29,
     "metadata": {},
     "output_type": "execute_result"
    }
   ],
   "source": [
    "# assess each row one by one\n",
    "archive_clean.text[list_duplicated]"
   ]
  },
  {
   "cell_type": "code",
   "execution_count": 30,
   "metadata": {
    "scrolled": true
   },
   "outputs": [
    {
     "name": "stdout",
     "output_type": "stream",
     "text": [
      "<class 'pandas.core.frame.DataFrame'>\n",
      "Int64Index: 2080 entries, 2 to 2355\n",
      "Data columns (total 11 columns):\n",
      "tweet_id              2080 non-null int64\n",
      "timestamp             2080 non-null datetime64[ns]\n",
      "source                2080 non-null object\n",
      "text                  2080 non-null object\n",
      "expanded_urls         2077 non-null object\n",
      "rating_numerator      2080 non-null float64\n",
      "rating_denominator    2080 non-null float64\n",
      "doggo                 2080 non-null object\n",
      "floofer               2080 non-null object\n",
      "pupper                2080 non-null object\n",
      "puppo                 2080 non-null object\n",
      "dtypes: datetime64[ns](1), float64(2), int64(1), object(7)\n",
      "memory usage: 275.0+ KB\n"
     ]
    },
    {
     "name": "stderr",
     "output_type": "stream",
     "text": [
      "/anaconda3/lib/python3.6/site-packages/ipykernel/__main__.py:2: DeprecationWarning: \n",
      ".ix is deprecated. Please use\n",
      ".loc for label based indexing or\n",
      ".iloc for positional indexing\n",
      "\n",
      "See the documentation here:\n",
      "http://pandas.pydata.org/pandas-docs/stable/indexing.html#ix-indexer-is-deprecated\n",
      "  from ipykernel import kernelapp as app\n",
      "/anaconda3/lib/python3.6/site-packages/ipykernel/__main__.py:3: DeprecationWarning: \n",
      ".ix is deprecated. Please use\n",
      ".loc for label based indexing or\n",
      ".iloc for positional indexing\n",
      "\n",
      "See the documentation here:\n",
      "http://pandas.pydata.org/pandas-docs/stable/indexing.html#ix-indexer-is-deprecated\n",
      "  app.launch_new_instance()\n"
     ]
    }
   ],
   "source": [
    "def put_ratings(index, numerator, denomenator):\n",
    "    archive_clean.ix[index,\"rating_denominator\"] = denomenator\n",
    "    archive_clean.ix[index,\"rating_numerator\"] = numerator\n",
    "\n",
    "indexes_to_be_deleted = [766, 1007, 1165, 1222, 1459, 1525,1538,1795,1832,1901,2113,2177,2216,2272,2306]\n",
    "archive_clean = archive_clean.drop(index = indexes_to_be_deleted)\n",
    "\n",
    "put_ratings(1068,14,10)\n",
    "put_ratings(1202,11,10)\n",
    "put_ratings(1359,9,10)\n",
    "put_ratings(1465,10,10)\n",
    "put_ratings(1508,10,10)\n",
    "put_ratings(1662,10,10)\n",
    "put_ratings(1897,10,10)\n",
    "put_ratings(1970,8,10)\n",
    "put_ratings(2010,10,10)\n",
    "put_ratings(2064,11,10)\n",
    "put_ratings(2263,10,10)\n",
    "put_ratings(2335, 9,10)\n",
    "\n",
    "archive_clean.info()"
   ]
  },
  {
   "cell_type": "markdown",
   "metadata": {},
   "source": [
    "### 'rating' column which represents ('rating_numerator / rating_denominator) should be created."
   ]
  },
  {
   "cell_type": "code",
   "execution_count": 31,
   "metadata": {
    "scrolled": false
   },
   "outputs": [
    {
     "data": {
      "text/plain": [
       "Index(['tweet_id', 'timestamp', 'source', 'text', 'expanded_urls', 'doggo',\n",
       "       'floofer', 'pupper', 'puppo', 'rating'],\n",
       "      dtype='object')"
      ]
     },
     "execution_count": 31,
     "metadata": {},
     "output_type": "execute_result"
    }
   ],
   "source": [
    "# create a new column called \"rating\" and drop 'rating_numerator' and 'rating_denominator'.\n",
    "archive_clean[\"rating\"] = archive_clean.rating_numerator / archive_clean.rating_denominator \n",
    "archive_clean = archive_clean.drop(columns=['rating_numerator','rating_denominator'])\n",
    "archive_clean.columns"
   ]
  },
  {
   "cell_type": "code",
   "execution_count": 32,
   "metadata": {
    "scrolled": true
   },
   "outputs": [
    {
     "data": {
      "text/plain": [
       "315                                         When you're so blinded by your systematic plagiarism that you forget what day it is. 0/10 https://t.co/YbEJPkg4Ag\n",
       "516     Meet Sam. She smiles 24/7 &amp; secretly aspires to be a reindeer. \\nKeep Sam smiling by clicking and sharing this link:\\nhttps://t.co/98tB8y7y7t ...\n",
       "979                                                                            This is Atticus. He's quite simply America af. 1776/10 https://t.co/GRXwMxLBkh\n",
       "2074                                                                      After so many requests... here you go.\\n\\nGood dogg. 420/10 https://t.co/yfAAo1gdeY\n",
       "Name: text, dtype: object"
      ]
     },
     "execution_count": 32,
     "metadata": {},
     "output_type": "execute_result"
    }
   ],
   "source": [
    "# Also, I will check \"rating\" extremely high or low and remove unappropriate ones.\n",
    "archive_clean[(archive_clean.rating < 0.1) | (archive_clean.rating > 2.)].text"
   ]
  },
  {
   "cell_type": "code",
   "execution_count": 33,
   "metadata": {},
   "outputs": [
    {
     "name": "stdout",
     "output_type": "stream",
     "text": [
      "<class 'pandas.core.frame.DataFrame'>\n",
      "Int64Index: 2077 entries, 2 to 2355\n",
      "Data columns (total 10 columns):\n",
      "tweet_id         2077 non-null int64\n",
      "timestamp        2077 non-null datetime64[ns]\n",
      "source           2077 non-null object\n",
      "text             2077 non-null object\n",
      "expanded_urls    2074 non-null object\n",
      "doggo            2077 non-null object\n",
      "floofer          2077 non-null object\n",
      "pupper           2077 non-null object\n",
      "puppo            2077 non-null object\n",
      "rating           2077 non-null float64\n",
      "dtypes: datetime64[ns](1), float64(1), int64(1), object(7)\n",
      "memory usage: 178.5+ KB\n"
     ]
    }
   ],
   "source": [
    "# We delete tweet whose picture are not dogs.\n",
    "archive_clean = archive_clean.drop([315, 516, 2074])\n",
    "archive_clean.info()"
   ]
  },
  {
   "cell_type": "markdown",
   "metadata": {},
   "source": [
    "### Stage columns ('doggo', 'floofer','pupper', 'puppo') in archive are not necessarily correctly extracted."
   ]
  },
  {
   "cell_type": "code",
   "execution_count": 34,
   "metadata": {
    "scrolled": true
   },
   "outputs": [
    {
     "data": {
      "text/plain": [
       "Index(['tweet_id', 'timestamp', 'source', 'text', 'expanded_urls', 'rating'], dtype='object')"
      ]
     },
     "execution_count": 34,
     "metadata": {},
     "output_type": "execute_result"
    }
   ],
   "source": [
    "# First, delete these columns\n",
    "archive_clean = archive_clean.drop(columns = ['doggo', 'floofer','pupper', 'puppo'])\n",
    "archive_clean.columns"
   ]
  },
  {
   "cell_type": "code",
   "execution_count": 35,
   "metadata": {},
   "outputs": [
    {
     "data": {
      "text/plain": [
       "doggo      84\n",
       "pupper    245\n",
       "puppo      29\n",
       "floof      23\n",
       "snoot       0\n",
       "blep        1\n",
       "dtype: int64"
      ]
     },
     "execution_count": 35,
     "metadata": {},
     "output_type": "execute_result"
    }
   ],
   "source": [
    "# add the new column of each stage (boolean)\n",
    "archive_clean[\"doggo\"] = archive_clean.text.str.contains(\"doggo\")\n",
    "archive_clean[\"pupper\"] = archive_clean.text.str.contains(\"pupper\")\n",
    "archive_clean[\"puppo\"] = archive_clean.text.str.contains(\"puppo\")\n",
    "archive_clean[\"floof\"] = archive_clean.text.str.contains(\"floof\")\n",
    "archive_clean[\"snoot\"] = archive_clean.text.str.contains(\"snoot\")\n",
    "archive_clean[\"blep\"] = archive_clean.text.str.contains(\"blep\")\n",
    "\n",
    "archive_clean[['doggo','pupper', 'puppo','floof','snoot', 'blep']].sum()"
   ]
  },
  {
   "cell_type": "code",
   "execution_count": 36,
   "metadata": {},
   "outputs": [
    {
     "data": {
      "text/plain": [
       "172     I have stumbled puppon a doggo painting party. They're looking to be the next Pupcasso or Puppollock. All 13/10 would put it on the fridge https:/...\n",
       "191     Here's a puppo participating in the #ScienceMarch. Cleverly disguising her own doggo agenda. 13/10 would keep the planet habitable for https://t.c...\n",
       "531          Here we have Burke (pupper) and Dexter (doggo). Pupper wants to be exactly like doggo. Both 12/10 would pet at same time https://t.co/ANBpEYHaho\n",
       "575          This is Bones. He's being haunted by another doggo of roughly the same size. 12/10 deep breaths pupper everything's fine https://t.co/55Dqe0SJNj\n",
       "705     This is Pinot. He's a sophisticated doggo. You can tell by the hat. Also pointier than your average pupper. Still 10/10 would pet cautiously https...\n",
       "889          Meet Maggie &amp; Lila. Maggie is the doggo, Lila is the pupper. They are sisters. Both 12/10 would pet at the same time https://t.co/MYwR4DQKll\n",
       "956                  Please stop sending it pictures that don't even have a doggo or pupper in them. Churlish af. 5/10 neat couch tho https://t.co/u2c9c7qSg8\n",
       "1063                                                              This is just downright precious af. 12/10 for both pupper and doggo https://t.co/o5J479bZUC\n",
       "1113                                                                               Like father (doggo), like son (pupper). Both 12/10 https://t.co/pG2inLaOda\n",
       "Name: text, dtype: object"
      ]
     },
     "execution_count": 36,
     "metadata": {},
     "output_type": "execute_result"
    }
   ],
   "source": [
    "# assess the rows which has 2 or more stage name in the \"text\" column.\n",
    "\n",
    "archive_clean.text[archive_clean[['doggo','pupper', 'puppo','floof','snoot', 'blep']].sum(axis=\"columns\") > 1]"
   ]
  },
  {
   "cell_type": "code",
   "execution_count": 37,
   "metadata": {},
   "outputs": [
    {
     "name": "stderr",
     "output_type": "stream",
     "text": [
      "/anaconda3/lib/python3.6/site-packages/ipykernel/__main__.py:6: DeprecationWarning: \n",
      ".ix is deprecated. Please use\n",
      ".loc for label based indexing or\n",
      ".iloc for positional indexing\n",
      "\n",
      "See the documentation here:\n",
      "http://pandas.pydata.org/pandas-docs/stable/indexing.html#ix-indexer-is-deprecated\n"
     ]
    }
   ],
   "source": [
    "# read each text and choose the most appropriate stage.\n",
    "# If we find that there are 2 dogs in the picture and thus there are 2 stages, delete the row.\n",
    "# This is because these rows can mis leading when we consider them with image prediction data.\n",
    "\n",
    "def cancel_stage(index, stage):\n",
    "    archive_clean.ix[index, stage] = False\n",
    "    \n",
    "indexes_to_be_deleted2 = [531, 889, 1062, 1113]\n",
    "archive_clean = archive_clean.drop(index = indexes_to_be_deleted2)\n",
    "\n",
    "cancel_stage(172, \"puppo\")\n",
    "cancel_stage(191, \"doggo\")\n",
    "cancel_stage(575, \"doggo\")\n",
    "cancel_stage(705, \"pupper\")\n",
    "cancel_stage(956, \"doggo\")\n",
    "cancel_stage(1063, \"pupper\")"
   ]
  },
  {
   "cell_type": "code",
   "execution_count": 38,
   "metadata": {},
   "outputs": [],
   "source": [
    "# confirm that there is no row which has 2 or more stages\n",
    "assert len(archive_clean[archive_clean[['doggo','pupper', 'puppo','floof','snoot', 'blep']].sum(axis=\"columns\") > 1]) == 0"
   ]
  },
  {
   "cell_type": "markdown",
   "metadata": {},
   "source": [
    "### Dog stages in the archive data should be in 1 column.\n",
    "> First, we separate the rows into those which is given stages(df\"have_stage_tweets\") if dog and those which are not(df\"no_stage_tweets\").\n",
    "> \n",
    "> * For df\"no_stage_tweets\", we give a \"stage\" colunn which stores \"NaN\".  \n",
    "> * For df\"have_stage_tweets\", we give a \"stage\" colunn which stores the name of stage.\n",
    ">\n",
    "> Finally, we concatabnate these dataframes to get the final dataframe."
   ]
  },
  {
   "cell_type": "code",
   "execution_count": 39,
   "metadata": {},
   "outputs": [
    {
     "data": {
      "text/plain": [
       "Index(['tweet_id', 'timestamp', 'source', 'text', 'expanded_urls', 'rating',\n",
       "       'stage'],\n",
       "      dtype='object')"
      ]
     },
     "execution_count": 39,
     "metadata": {},
     "output_type": "execute_result"
    }
   ],
   "source": [
    "# extract the rows which are not assignes dos stages as \"no_stage_tweets\".\n",
    "# construct new column named \"stage\" which is stored NaN and delete unnecessary columns.\n",
    "\n",
    "no_stage_tweets = archive_clean[archive_clean[['doggo','pupper', 'puppo','floof','snoot','blep']].sum(axis=\"columns\") == 0]\n",
    "no_stage_tweets = no_stage_tweets.drop(columns = ['doggo','pupper', 'puppo','floof','snoot','blep'])\n",
    "no_stage_tweets[\"stage\"] = np.nan\n",
    "no_stage_tweets.columns"
   ]
  },
  {
   "cell_type": "code",
   "execution_count": 40,
   "metadata": {},
   "outputs": [
    {
     "data": {
      "text/plain": [
       "array([ True,  True,  True,  True,  True,  True,  True])"
      ]
     },
     "execution_count": 40,
     "metadata": {},
     "output_type": "execute_result"
    }
   ],
   "source": [
    "# extract the rows which are assignes any dos stages as \"have_stage_tweets\".\n",
    "# construct new column named \"stage\"  and delete unnecessary columns (using .melt() method).\n",
    "\n",
    "have_stage_tweets = archive_clean[archive_clean[['doggo','pupper', 'puppo','floof','snoot','blep']].sum(axis=\"columns\") >= 1]\n",
    "\n",
    "## consirm that all rows are in df\"no_stage_tweets\" or df\"have_stage_tweets\".\n",
    "assert len(no_stage_tweets) + len(have_stage_tweets) == len(archive_clean)\n",
    "\n",
    "have_stage_tweets = have_stage_tweets.melt(id_vars=['tweet_id', 'timestamp', 'source', 'text', 'expanded_urls', 'rating'], var_name=\"stage\")\n",
    "have_stage_tweets = have_stage_tweets[have_stage_tweets.value == True]\n",
    "have_stage_tweets = have_stage_tweets.drop(columns = 'value')\n",
    "have_stage_tweets\n",
    "\n",
    "## confirm that df\"no_stage_tweets\" or df\"have_stage_tweets\" and same columns.\n",
    "no_stage_tweets.columns == have_stage_tweets.columns"
   ]
  },
  {
   "cell_type": "code",
   "execution_count": 41,
   "metadata": {},
   "outputs": [
    {
     "data": {
      "text/html": [
       "<div>\n",
       "<style scoped>\n",
       "    .dataframe tbody tr th:only-of-type {\n",
       "        vertical-align: middle;\n",
       "    }\n",
       "\n",
       "    .dataframe tbody tr th {\n",
       "        vertical-align: top;\n",
       "    }\n",
       "\n",
       "    .dataframe thead th {\n",
       "        text-align: right;\n",
       "    }\n",
       "</style>\n",
       "<table border=\"1\" class=\"dataframe\">\n",
       "  <thead>\n",
       "    <tr style=\"text-align: right;\">\n",
       "      <th></th>\n",
       "      <th>tweet_id</th>\n",
       "      <th>timestamp</th>\n",
       "      <th>source</th>\n",
       "      <th>text</th>\n",
       "      <th>expanded_urls</th>\n",
       "      <th>rating</th>\n",
       "      <th>stage</th>\n",
       "    </tr>\n",
       "  </thead>\n",
       "  <tbody>\n",
       "    <tr>\n",
       "      <th>0</th>\n",
       "      <td>890240255349198849</td>\n",
       "      <td>2017-07-26 15:59:51</td>\n",
       "      <td>&lt;a href=\"http://twitter.co...</td>\n",
       "      <td>This is Cassie. She is a c...</td>\n",
       "      <td>https://twitter.com/dog_ra...</td>\n",
       "      <td>1.4</td>\n",
       "      <td>doggo</td>\n",
       "    </tr>\n",
       "    <tr>\n",
       "      <th>1</th>\n",
       "      <td>891815181378084864</td>\n",
       "      <td>2017-07-31 00:18:03</td>\n",
       "      <td>&lt;a href=\"http://twitter.co...</td>\n",
       "      <td>This is Archie. He is a ra...</td>\n",
       "      <td>https://twitter.com/dog_ra...</td>\n",
       "      <td>1.2</td>\n",
       "      <td>NaN</td>\n",
       "    </tr>\n",
       "    <tr>\n",
       "      <th>2</th>\n",
       "      <td>891689557279858688</td>\n",
       "      <td>2017-07-30 15:58:51</td>\n",
       "      <td>&lt;a href=\"http://twitter.co...</td>\n",
       "      <td>This is Darla. She commenc...</td>\n",
       "      <td>https://twitter.com/dog_ra...</td>\n",
       "      <td>1.3</td>\n",
       "      <td>NaN</td>\n",
       "    </tr>\n",
       "    <tr>\n",
       "      <th>3</th>\n",
       "      <td>891327558926688256</td>\n",
       "      <td>2017-07-29 16:00:24</td>\n",
       "      <td>&lt;a href=\"http://twitter.co...</td>\n",
       "      <td>This is Franklin. He would...</td>\n",
       "      <td>https://twitter.com/dog_ra...</td>\n",
       "      <td>1.2</td>\n",
       "      <td>NaN</td>\n",
       "    </tr>\n",
       "    <tr>\n",
       "      <th>4</th>\n",
       "      <td>884162670584377345</td>\n",
       "      <td>2017-07-09 21:29:42</td>\n",
       "      <td>&lt;a href=\"http://twitter.co...</td>\n",
       "      <td>Meet Yogi. He doesn't have...</td>\n",
       "      <td>https://twitter.com/dog_ra...</td>\n",
       "      <td>1.2</td>\n",
       "      <td>doggo</td>\n",
       "    </tr>\n",
       "  </tbody>\n",
       "</table>\n",
       "</div>"
      ],
      "text/plain": [
       "             tweet_id           timestamp                         source  \\\n",
       "0  890240255349198849 2017-07-26 15:59:51  <a href=\"http://twitter.co...   \n",
       "1  891815181378084864 2017-07-31 00:18:03  <a href=\"http://twitter.co...   \n",
       "2  891689557279858688 2017-07-30 15:58:51  <a href=\"http://twitter.co...   \n",
       "3  891327558926688256 2017-07-29 16:00:24  <a href=\"http://twitter.co...   \n",
       "4  884162670584377345 2017-07-09 21:29:42  <a href=\"http://twitter.co...   \n",
       "\n",
       "                            text                  expanded_urls  rating  stage  \n",
       "0  This is Cassie. She is a c...  https://twitter.com/dog_ra...     1.4  doggo  \n",
       "1  This is Archie. He is a ra...  https://twitter.com/dog_ra...     1.2    NaN  \n",
       "2  This is Darla. She commenc...  https://twitter.com/dog_ra...     1.3    NaN  \n",
       "3  This is Franklin. He would...  https://twitter.com/dog_ra...     1.2    NaN  \n",
       "4  Meet Yogi. He doesn't have...  https://twitter.com/dog_ra...     1.2  doggo  "
      ]
     },
     "execution_count": 41,
     "metadata": {},
     "output_type": "execute_result"
    }
   ],
   "source": [
    "# concatanate df\"no_stage_tweets\" or df\"have_stage_tweets\" \n",
    "archive_clean2 = pd.concat([no_stage_tweets, have_stage_tweets]).sort_index().reset_index(drop=True)\n",
    "assert len(archive_clean2) == len(archive_clean)\n",
    "\n",
    "pd.options.display.max_colwidth = 30\n",
    "archive_clean2.head()\n",
    "\n",
    "## reset index\n",
    "archive_clean2 = archive_clean2.reset_index(drop=True)\n",
    "archive_clean2.head()"
   ]
  },
  {
   "cell_type": "markdown",
   "metadata": {},
   "source": [
    "### Some pictures are predicted not as dogs. If a picture is not predicted as dog till the 3rd prediction, delete that row in prediction image data."
   ]
  },
  {
   "cell_type": "code",
   "execution_count": 42,
   "metadata": {},
   "outputs": [],
   "source": [
    "# use .query() method to extract rows of tweets which are predicted as dogs\n",
    "image_clean = image_clean.query(' p1_dog == True | p2_dog == True | p3_dog == True ')"
   ]
  },
  {
   "cell_type": "code",
   "execution_count": 43,
   "metadata": {},
   "outputs": [
    {
     "name": "stdout",
     "output_type": "stream",
     "text": [
      "<class 'pandas.core.frame.DataFrame'>\n",
      "Int64Index: 1751 entries, 0 to 2073\n",
      "Data columns (total 12 columns):\n",
      "tweet_id    1751 non-null int64\n",
      "jpg_url     1751 non-null object\n",
      "img_num     1751 non-null int64\n",
      "p1          1751 non-null object\n",
      "p1_conf     1751 non-null float64\n",
      "p1_dog      1751 non-null bool\n",
      "p2          1751 non-null object\n",
      "p2_conf     1751 non-null float64\n",
      "p2_dog      1751 non-null bool\n",
      "p3          1751 non-null object\n",
      "p3_conf     1751 non-null float64\n",
      "p3_dog      1751 non-null bool\n",
      "dtypes: bool(3), float64(3), int64(2), object(4)\n",
      "memory usage: 141.9+ KB\n"
     ]
    }
   ],
   "source": [
    "# confirm there is no row which is not predicted as dogs either in p1~p3 predictions\n",
    "assert ( (image_clean.p1_dog | image_clean.p2_dog | image_clean.p3_dog)==0 ).sum() == 0\n",
    "image_clean.info()"
   ]
  },
  {
   "cell_type": "markdown",
   "metadata": {},
   "source": [
    "### We need only the most primary confident prediction of dog types from pictures, so make the column \"predicted dog type\" in place of p1~p3 predictions."
   ]
  },
  {
   "cell_type": "code",
   "execution_count": 44,
   "metadata": {},
   "outputs": [],
   "source": [
    "# create a new list of dog types according to p1 ~p3.\n",
    "# add new column \"dog_type\" in df\"image_clean\" using it.\n",
    "\n",
    "\n",
    "image_clean = image_clean.reset_index(drop=True )\n",
    "dog_type_list = []\n",
    "\n",
    "for index in image_clean.index:\n",
    "    if image_clean.p1_dog.iloc[index] == True:\n",
    "        dog_type_list.append(image_clean.p1.iloc[index])\n",
    "    elif image_clean.p2_dog.iloc[index] == True:\n",
    "        dog_type_list.append(image_clean.p2.iloc[index])\n",
    "    elif image_clean.p3_dog.iloc[index] == True:\n",
    "        dog_type_list.append(image_clean.p3.iloc[index])\n",
    "    else:\n",
    "        raise   # throw an error when there is no dog type predicted in p1~p3\n",
    "        \n",
    "        \n",
    "image_clean[\"dog_type\"] = dog_type_list"
   ]
  },
  {
   "cell_type": "code",
   "execution_count": 45,
   "metadata": {},
   "outputs": [],
   "source": [
    "# remove p1~p3 columns because the are no longer needed.\n",
    "image_clean = image_clean.drop(columns = [\"p1\",\"p1_conf\",\"p1_dog\",\"p2\",\"p2_conf\",\"p2_dog\",\"p3\",\"p3_conf\",\"p3_dog\"])"
   ]
  },
  {
   "cell_type": "code",
   "execution_count": 46,
   "metadata": {},
   "outputs": [
    {
     "data": {
      "text/html": [
       "<div>\n",
       "<style scoped>\n",
       "    .dataframe tbody tr th:only-of-type {\n",
       "        vertical-align: middle;\n",
       "    }\n",
       "\n",
       "    .dataframe tbody tr th {\n",
       "        vertical-align: top;\n",
       "    }\n",
       "\n",
       "    .dataframe thead th {\n",
       "        text-align: right;\n",
       "    }\n",
       "</style>\n",
       "<table border=\"1\" class=\"dataframe\">\n",
       "  <thead>\n",
       "    <tr style=\"text-align: right;\">\n",
       "      <th></th>\n",
       "      <th>tweet_id</th>\n",
       "      <th>jpg_url</th>\n",
       "      <th>img_num</th>\n",
       "      <th>dog_type</th>\n",
       "    </tr>\n",
       "  </thead>\n",
       "  <tbody>\n",
       "    <tr>\n",
       "      <th>0</th>\n",
       "      <td>666020888022790149</td>\n",
       "      <td>https://pbs.twimg.com/medi...</td>\n",
       "      <td>1</td>\n",
       "      <td>Welsh_springer_spaniel</td>\n",
       "    </tr>\n",
       "    <tr>\n",
       "      <th>1</th>\n",
       "      <td>666029285002620928</td>\n",
       "      <td>https://pbs.twimg.com/medi...</td>\n",
       "      <td>1</td>\n",
       "      <td>redbone</td>\n",
       "    </tr>\n",
       "    <tr>\n",
       "      <th>2</th>\n",
       "      <td>666033412701032449</td>\n",
       "      <td>https://pbs.twimg.com/medi...</td>\n",
       "      <td>1</td>\n",
       "      <td>German_shepherd</td>\n",
       "    </tr>\n",
       "    <tr>\n",
       "      <th>3</th>\n",
       "      <td>666044226329800704</td>\n",
       "      <td>https://pbs.twimg.com/medi...</td>\n",
       "      <td>1</td>\n",
       "      <td>Rhodesian_ridgeback</td>\n",
       "    </tr>\n",
       "    <tr>\n",
       "      <th>4</th>\n",
       "      <td>666049248165822465</td>\n",
       "      <td>https://pbs.twimg.com/medi...</td>\n",
       "      <td>1</td>\n",
       "      <td>miniature_pinscher</td>\n",
       "    </tr>\n",
       "  </tbody>\n",
       "</table>\n",
       "</div>"
      ],
      "text/plain": [
       "             tweet_id                        jpg_url  img_num  \\\n",
       "0  666020888022790149  https://pbs.twimg.com/medi...        1   \n",
       "1  666029285002620928  https://pbs.twimg.com/medi...        1   \n",
       "2  666033412701032449  https://pbs.twimg.com/medi...        1   \n",
       "3  666044226329800704  https://pbs.twimg.com/medi...        1   \n",
       "4  666049248165822465  https://pbs.twimg.com/medi...        1   \n",
       "\n",
       "                 dog_type  \n",
       "0  Welsh_springer_spaniel  \n",
       "1                 redbone  \n",
       "2         German_shepherd  \n",
       "3     Rhodesian_ridgeback  \n",
       "4      miniature_pinscher  "
      ]
     },
     "execution_count": 46,
     "metadata": {},
     "output_type": "execute_result"
    }
   ],
   "source": [
    "# confirm the columns\n",
    "image_clean.head()"
   ]
  },
  {
   "cell_type": "markdown",
   "metadata": {},
   "source": [
    "### \"df_api\" and \"df_image\" should be merged to \"df_archive\""
   ]
  },
  {
   "cell_type": "code",
   "execution_count": 47,
   "metadata": {},
   "outputs": [
    {
     "data": {
      "text/html": [
       "<div>\n",
       "<style scoped>\n",
       "    .dataframe tbody tr th:only-of-type {\n",
       "        vertical-align: middle;\n",
       "    }\n",
       "\n",
       "    .dataframe tbody tr th {\n",
       "        vertical-align: top;\n",
       "    }\n",
       "\n",
       "    .dataframe thead th {\n",
       "        text-align: right;\n",
       "    }\n",
       "</style>\n",
       "<table border=\"1\" class=\"dataframe\">\n",
       "  <thead>\n",
       "    <tr style=\"text-align: right;\">\n",
       "      <th></th>\n",
       "      <th>tweet_id</th>\n",
       "      <th>timestamp</th>\n",
       "      <th>source</th>\n",
       "      <th>text</th>\n",
       "      <th>expanded_urls</th>\n",
       "      <th>rating</th>\n",
       "      <th>stage</th>\n",
       "      <th>ret</th>\n",
       "      <th>fav</th>\n",
       "      <th>jpg_url</th>\n",
       "      <th>img_num</th>\n",
       "      <th>dog_type</th>\n",
       "    </tr>\n",
       "  </thead>\n",
       "  <tbody>\n",
       "    <tr>\n",
       "      <th>0</th>\n",
       "      <td>890240255349198849</td>\n",
       "      <td>2017-07-26 15:59:51</td>\n",
       "      <td>&lt;a href=\"http://twitter.co...</td>\n",
       "      <td>This is Cassie. She is a c...</td>\n",
       "      <td>https://twitter.com/dog_ra...</td>\n",
       "      <td>1.4</td>\n",
       "      <td>doggo</td>\n",
       "      <td>7300</td>\n",
       "      <td>31555</td>\n",
       "      <td>https://pbs.twimg.com/medi...</td>\n",
       "      <td>1</td>\n",
       "      <td>Pembroke</td>\n",
       "    </tr>\n",
       "    <tr>\n",
       "      <th>1</th>\n",
       "      <td>891815181378084864</td>\n",
       "      <td>2017-07-31 00:18:03</td>\n",
       "      <td>&lt;a href=\"http://twitter.co...</td>\n",
       "      <td>This is Archie. He is a ra...</td>\n",
       "      <td>https://twitter.com/dog_ra...</td>\n",
       "      <td>1.2</td>\n",
       "      <td>NaN</td>\n",
       "      <td>4102</td>\n",
       "      <td>24746</td>\n",
       "      <td>https://pbs.twimg.com/medi...</td>\n",
       "      <td>1</td>\n",
       "      <td>Chihuahua</td>\n",
       "    </tr>\n",
       "    <tr>\n",
       "      <th>2</th>\n",
       "      <td>891689557279858688</td>\n",
       "      <td>2017-07-30 15:58:51</td>\n",
       "      <td>&lt;a href=\"http://twitter.co...</td>\n",
       "      <td>This is Darla. She commenc...</td>\n",
       "      <td>https://twitter.com/dog_ra...</td>\n",
       "      <td>1.3</td>\n",
       "      <td>NaN</td>\n",
       "      <td>8540</td>\n",
       "      <td>41677</td>\n",
       "      <td>https://pbs.twimg.com/medi...</td>\n",
       "      <td>1</td>\n",
       "      <td>Labrador_retriever</td>\n",
       "    </tr>\n",
       "    <tr>\n",
       "      <th>3</th>\n",
       "      <td>891327558926688256</td>\n",
       "      <td>2017-07-29 16:00:24</td>\n",
       "      <td>&lt;a href=\"http://twitter.co...</td>\n",
       "      <td>This is Franklin. He would...</td>\n",
       "      <td>https://twitter.com/dog_ra...</td>\n",
       "      <td>1.2</td>\n",
       "      <td>NaN</td>\n",
       "      <td>9265</td>\n",
       "      <td>39842</td>\n",
       "      <td>https://pbs.twimg.com/medi...</td>\n",
       "      <td>2</td>\n",
       "      <td>basset</td>\n",
       "    </tr>\n",
       "    <tr>\n",
       "      <th>4</th>\n",
       "      <td>884162670584377345</td>\n",
       "      <td>2017-07-09 21:29:42</td>\n",
       "      <td>&lt;a href=\"http://twitter.co...</td>\n",
       "      <td>Meet Yogi. He doesn't have...</td>\n",
       "      <td>https://twitter.com/dog_ra...</td>\n",
       "      <td>1.2</td>\n",
       "      <td>doggo</td>\n",
       "      <td>2952</td>\n",
       "      <td>20137</td>\n",
       "      <td>https://pbs.twimg.com/medi...</td>\n",
       "      <td>1</td>\n",
       "      <td>German_shepherd</td>\n",
       "    </tr>\n",
       "  </tbody>\n",
       "</table>\n",
       "</div>"
      ],
      "text/plain": [
       "             tweet_id           timestamp                         source  \\\n",
       "0  890240255349198849 2017-07-26 15:59:51  <a href=\"http://twitter.co...   \n",
       "1  891815181378084864 2017-07-31 00:18:03  <a href=\"http://twitter.co...   \n",
       "2  891689557279858688 2017-07-30 15:58:51  <a href=\"http://twitter.co...   \n",
       "3  891327558926688256 2017-07-29 16:00:24  <a href=\"http://twitter.co...   \n",
       "4  884162670584377345 2017-07-09 21:29:42  <a href=\"http://twitter.co...   \n",
       "\n",
       "                            text                  expanded_urls  rating  \\\n",
       "0  This is Cassie. She is a c...  https://twitter.com/dog_ra...     1.4   \n",
       "1  This is Archie. He is a ra...  https://twitter.com/dog_ra...     1.2   \n",
       "2  This is Darla. She commenc...  https://twitter.com/dog_ra...     1.3   \n",
       "3  This is Franklin. He would...  https://twitter.com/dog_ra...     1.2   \n",
       "4  Meet Yogi. He doesn't have...  https://twitter.com/dog_ra...     1.2   \n",
       "\n",
       "   stage   ret    fav                        jpg_url  img_num  \\\n",
       "0  doggo  7300  31555  https://pbs.twimg.com/medi...        1   \n",
       "1    NaN  4102  24746  https://pbs.twimg.com/medi...        1   \n",
       "2    NaN  8540  41677  https://pbs.twimg.com/medi...        1   \n",
       "3    NaN  9265  39842  https://pbs.twimg.com/medi...        2   \n",
       "4  doggo  2952  20137  https://pbs.twimg.com/medi...        1   \n",
       "\n",
       "             dog_type  \n",
       "0            Pembroke  \n",
       "1           Chihuahua  \n",
       "2  Labrador_retriever  \n",
       "3              basset  \n",
       "4     German_shepherd  "
      ]
     },
     "execution_count": 47,
     "metadata": {},
     "output_type": "execute_result"
    }
   ],
   "source": [
    "# use inner merge to merge 3 dataframes to make final dataframe \"df\"\n",
    "\n",
    "df = archive_clean2.merge(api_clean)\n",
    "df = df.merge(image_clean)\n",
    "df.head()"
   ]
  },
  {
   "cell_type": "code",
   "execution_count": 48,
   "metadata": {},
   "outputs": [
    {
     "name": "stdout",
     "output_type": "stream",
     "text": [
      "<class 'pandas.core.frame.DataFrame'>\n",
      "Int64Index: 1645 entries, 0 to 1644\n",
      "Data columns (total 12 columns):\n",
      "tweet_id         1645 non-null int64\n",
      "timestamp        1645 non-null datetime64[ns]\n",
      "source           1645 non-null object\n",
      "text             1645 non-null object\n",
      "expanded_urls    1645 non-null object\n",
      "rating           1645 non-null float64\n",
      "stage            287 non-null object\n",
      "ret              1645 non-null int64\n",
      "fav              1645 non-null int64\n",
      "jpg_url          1645 non-null object\n",
      "img_num          1645 non-null int64\n",
      "dog_type         1645 non-null object\n",
      "dtypes: datetime64[ns](1), float64(1), int64(4), object(6)\n",
      "memory usage: 167.1+ KB\n"
     ]
    }
   ],
   "source": [
    "# confirm final dataframe\n",
    "df.info()"
   ]
  },
  {
   "cell_type": "markdown",
   "metadata": {},
   "source": [
    "## Store"
   ]
  },
  {
   "cell_type": "code",
   "execution_count": 49,
   "metadata": {},
   "outputs": [],
   "source": [
    "# store the final dataframe \"df\" in the csv file.\n",
    "df.to_csv(\"twitter_archieve_master.csv\", index=False)"
   ]
  },
  {
   "cell_type": "markdown",
   "metadata": {},
   "source": [
    "<a id='eda'></a>\n",
    "# Exploratory Data Analysis"
   ]
  },
  {
   "cell_type": "code",
   "execution_count": 50,
   "metadata": {},
   "outputs": [
    {
     "data": {
      "image/png": "[encoded data removed]",
      "text/plain": [
       "<Figure size 576x576 with 9 Axes>"
      ]
     },
     "metadata": {},
     "output_type": "display_data"
    }
   ],
   "source": [
    "pd.plotting.scatter_matrix(df.iloc[:,5:9], figsize=(8,8));"
   ]
  },
  {
   "cell_type": "markdown",
   "metadata": {},
   "source": [
    "### Topic1.  How the ratings are related with stages and types of dogs\n",
    "> It can be possible that a master of the account has personal preference of dog stages or dog types and the rating is somehow biased. We take a look at the realtionship between dog ratings, stages, and types.\n",
    ">\n",
    "> First, we visualize the relationship between dog stages and ratings. The dog stage \"blep\" has only 1 tweet, so we ignore this stage."
   ]
  },
  {
   "cell_type": "code",
   "execution_count": 51,
   "metadata": {},
   "outputs": [
    {
     "data": {
      "image/png": "[encoded data removed]",
      "text/plain": [
       "<Figure size 432x288 with 1 Axes>"
      ]
     },
     "metadata": {},
     "output_type": "display_data"
    }
   ],
   "source": [
    "sns.set_style(\"darkgrid\")\n",
    "\n",
    "# visualize each stage's distribution\n",
    "df[df.stage == \"pupper\"][\"rating\"].hist(density=1, alpha=0.5, label=\"pupper\")\n",
    "df[df.stage == \"doggo\"][\"rating\"].hist(density=1,alpha=0.5, label=\"doggo\")\n",
    "df[df.stage == \"puppo\"][\"rating\"].hist(density=1, alpha=0.5, label=\"puppo\")\n",
    "df[df.stage == \"floof\"][\"rating\"].hist(density=1, alpha=0.5, label=\"floof\")\n",
    "plt.title(\"Distribution of ratings of each stage of dogs\")\n",
    "plt.xlabel(\"rating\")\n",
    "plt.ylabel(\"frequency(%)\")\n",
    "plt.legend();"
   ]
  },
  {
   "cell_type": "markdown",
   "metadata": {},
   "source": [
    "> What we have found is that there seems to be a little effect on the ratings depending on the stage of dogs. The graph suggests that the stage \"puppo\" tend to have the highest rating, followed by \"floof\", \"doggo\", and \"pupper\".\n",
    ">\n",
    "> Next, we visualize the relationship between dog types and ratings. We begin by knowing dog type categpry names."
   ]
  },
  {
   "cell_type": "code",
   "execution_count": 52,
   "metadata": {
    "scrolled": true
   },
   "outputs": [
    {
     "data": {
      "text/plain": [
       "golden_retriever      152\n",
       "Labrador_retriever    106\n",
       "Pembroke               93\n",
       "Chihuahua              87\n",
       "pug                    62\n",
       "toy_poodle             50\n",
       "chow                   48\n",
       "Samoyed                42\n",
       "Pomeranian             41\n",
       "malamute               33\n",
       "Name: dog_type, dtype: int64"
      ]
     },
     "execution_count": 52,
     "metadata": {},
     "output_type": "execute_result"
    }
   ],
   "source": [
    "# get to know the dog type categories\n",
    "df.dog_type.value_counts().sort_values(ascending=False).head(10)"
   ]
  },
  {
   "cell_type": "markdown",
   "metadata": {},
   "source": [
    "> There are too many types of dogs, so we focus only on the 5 most types which are \"golden_retriever\", \"Labrador_retriever\", \"Pembroke\", \"Chihuahua\", and \"pug\"."
   ]
  },
  {
   "cell_type": "code",
   "execution_count": 53,
   "metadata": {},
   "outputs": [
    {
     "data": {
      "image/png": "[encoded data removed]",
      "text/plain": [
       "<Figure size 432x288 with 1 Axes>"
      ]
     },
     "metadata": {},
     "output_type": "display_data"
    }
   ],
   "source": [
    "# visualize each type's distribution\n",
    "df[df.dog_type == \"golden_retriever\"][\"rating\"].hist(density=1, alpha=0.5, label=\"golden_retriever\")\n",
    "df[df.dog_type == \"Labrador_retriever\"][\"rating\"].hist(density=1,alpha=0.5, label=\"Labrador_retriever\")\n",
    "df[df.dog_type == \"Pembroke\"][\"rating\"].hist(density=1, alpha=0.5, label=\"Pembroke\")\n",
    "df[df.dog_type == \"Chihuahua\"][\"rating\"].hist(density=1, alpha=0.5, label=\"Chihuahua\")\n",
    "df[df.dog_type == \"pug\"][\"rating\"].hist(density=1, alpha=0.5, label=\"pug\")\n",
    "plt.title(\"Distribution of ratings of each type of dogs\")\n",
    "plt.xlabel(\"rating\")\n",
    "plt.ylabel(\"frequency(%)\")\n",
    "plt.legend();"
   ]
  },
  {
   "cell_type": "markdown",
   "metadata": {},
   "source": [
    "> Appearent gaps have not found between types, but \"pug\" seems to tend to get rather low ratings.\n",
    ">\n",
    "> Now we use multiple linear model for the relationship between ratings and the combination of stages and columns. (In this project, let me skip to check if this really has no problem in terms of multicollinearity .etc.)\n",
    "> We set \"pupper\" and \"pug\" as baselines and see if the differences of ratings from other each stage or types are statistically significant or not."
   ]
  },
  {
   "cell_type": "code",
   "execution_count": 54,
   "metadata": {},
   "outputs": [
    {
     "data": {
      "text/html": [
       "<div>\n",
       "<style scoped>\n",
       "    .dataframe tbody tr th:only-of-type {\n",
       "        vertical-align: middle;\n",
       "    }\n",
       "\n",
       "    .dataframe tbody tr th {\n",
       "        vertical-align: top;\n",
       "    }\n",
       "\n",
       "    .dataframe thead th {\n",
       "        text-align: right;\n",
       "    }\n",
       "</style>\n",
       "<table border=\"1\" class=\"dataframe\">\n",
       "  <thead>\n",
       "    <tr style=\"text-align: right;\">\n",
       "      <th></th>\n",
       "      <th>tweet_id</th>\n",
       "      <th>timestamp</th>\n",
       "      <th>source</th>\n",
       "      <th>text</th>\n",
       "      <th>expanded_urls</th>\n",
       "      <th>rating</th>\n",
       "      <th>stage</th>\n",
       "      <th>ret</th>\n",
       "      <th>fav</th>\n",
       "      <th>jpg_url</th>\n",
       "      <th>...</th>\n",
       "      <th>intercept</th>\n",
       "      <th>doggo</th>\n",
       "      <th>floof</th>\n",
       "      <th>pupper</th>\n",
       "      <th>puppo</th>\n",
       "      <th>Chihuahua</th>\n",
       "      <th>Labrador_retriever</th>\n",
       "      <th>Pembroke</th>\n",
       "      <th>golden_retriever</th>\n",
       "      <th>pug</th>\n",
       "    </tr>\n",
       "  </thead>\n",
       "  <tbody>\n",
       "    <tr>\n",
       "      <th>466</th>\n",
       "      <td>690959652130045952</td>\n",
       "      <td>2016-01-23 18:09:53</td>\n",
       "      <td>&lt;a href=\"http://twitter.co...</td>\n",
       "      <td>This golden is happy to re...</td>\n",
       "      <td>https://twitter.com/dog_ra...</td>\n",
       "      <td>1.1</td>\n",
       "      <td>pupper</td>\n",
       "      <td>1354</td>\n",
       "      <td>3795</td>\n",
       "      <td>https://pbs.twimg.com/medi...</td>\n",
       "      <td>...</td>\n",
       "      <td>1.0</td>\n",
       "      <td>0</td>\n",
       "      <td>0</td>\n",
       "      <td>1</td>\n",
       "      <td>0</td>\n",
       "      <td>0</td>\n",
       "      <td>0</td>\n",
       "      <td>0</td>\n",
       "      <td>1</td>\n",
       "      <td>0</td>\n",
       "    </tr>\n",
       "    <tr>\n",
       "      <th>49</th>\n",
       "      <td>829449946868879360</td>\n",
       "      <td>2017-02-08 22:00:52</td>\n",
       "      <td>&lt;a href=\"http://twitter.co...</td>\n",
       "      <td>Here's a stressed doggo. H...</td>\n",
       "      <td>https://twitter.com/dog_ra...</td>\n",
       "      <td>1.1</td>\n",
       "      <td>doggo</td>\n",
       "      <td>2211</td>\n",
       "      <td>11119</td>\n",
       "      <td>https://pbs.twimg.com/medi...</td>\n",
       "      <td>...</td>\n",
       "      <td>1.0</td>\n",
       "      <td>1</td>\n",
       "      <td>0</td>\n",
       "      <td>0</td>\n",
       "      <td>0</td>\n",
       "      <td>0</td>\n",
       "      <td>1</td>\n",
       "      <td>0</td>\n",
       "      <td>0</td>\n",
       "      <td>0</td>\n",
       "    </tr>\n",
       "    <tr>\n",
       "      <th>539</th>\n",
       "      <td>679828447187857408</td>\n",
       "      <td>2015-12-24 00:58:27</td>\n",
       "      <td>&lt;a href=\"http://twitter.co...</td>\n",
       "      <td>Everybody look at this bea...</td>\n",
       "      <td>https://twitter.com/dog_ra...</td>\n",
       "      <td>1.3</td>\n",
       "      <td>pupper</td>\n",
       "      <td>15137</td>\n",
       "      <td>38234</td>\n",
       "      <td>https://pbs.twimg.com/medi...</td>\n",
       "      <td>...</td>\n",
       "      <td>1.0</td>\n",
       "      <td>0</td>\n",
       "      <td>0</td>\n",
       "      <td>1</td>\n",
       "      <td>0</td>\n",
       "      <td>1</td>\n",
       "      <td>0</td>\n",
       "      <td>0</td>\n",
       "      <td>0</td>\n",
       "      <td>0</td>\n",
       "    </tr>\n",
       "  </tbody>\n",
       "</table>\n",
       "<p>3 rows × 22 columns</p>\n",
       "</div>"
      ],
      "text/plain": [
       "               tweet_id           timestamp                         source  \\\n",
       "466  690959652130045952 2016-01-23 18:09:53  <a href=\"http://twitter.co...   \n",
       "49   829449946868879360 2017-02-08 22:00:52  <a href=\"http://twitter.co...   \n",
       "539  679828447187857408 2015-12-24 00:58:27  <a href=\"http://twitter.co...   \n",
       "\n",
       "                              text                  expanded_urls  rating  \\\n",
       "466  This golden is happy to re...  https://twitter.com/dog_ra...     1.1   \n",
       "49   Here's a stressed doggo. H...  https://twitter.com/dog_ra...     1.1   \n",
       "539  Everybody look at this bea...  https://twitter.com/dog_ra...     1.3   \n",
       "\n",
       "      stage    ret    fav                        jpg_url ...   intercept  \\\n",
       "466  pupper   1354   3795  https://pbs.twimg.com/medi... ...         1.0   \n",
       "49    doggo   2211  11119  https://pbs.twimg.com/medi... ...         1.0   \n",
       "539  pupper  15137  38234  https://pbs.twimg.com/medi... ...         1.0   \n",
       "\n",
       "    doggo  floof  pupper  puppo  Chihuahua  Labrador_retriever  Pembroke  \\\n",
       "466     0      0       1      0          0                   0         0   \n",
       "49      1      0       0      0          0                   1         0   \n",
       "539     0      0       1      0          1                   0         0   \n",
       "\n",
       "     golden_retriever  pug  \n",
       "466                 1    0  \n",
       "49                  0    0  \n",
       "539                 0    0  \n",
       "\n",
       "[3 rows x 22 columns]"
      ]
     },
     "execution_count": 54,
     "metadata": {},
     "output_type": "execute_result"
    }
   ],
   "source": [
    "# extract rows which are given both specific stage and type\n",
    "df2 = df.copy()\n",
    "df2 = df2[df2.stage.isin([\"puppo\",\"pupper\",\"doggo\",\"floof\"])]\n",
    "df2 = df2[df2.dog_type.isin([\"golden_retriever\",\"Labrador_retriever\",\"Pembroke\",\"Chihuahua\",\"pug\"])]\n",
    "\n",
    "# add intercept and dummy columns of dog stages and types\n",
    "df2[\"intercept\"] = 1.\n",
    "df2[[\"doggo\",\"floof\",\"pupper\",\"puppo\"]] = pd.get_dummies(df2.stage)\n",
    "df2[[\"Chihuahua\",\"Labrador_retriever\",\"Pembroke\",\"golden_retriever\",\"pug\"]] = pd.get_dummies(df2.dog_type)\n",
    "df2.sample(3)"
   ]
  },
  {
   "cell_type": "code",
   "execution_count": 55,
   "metadata": {},
   "outputs": [
    {
     "data": {
      "text/html": [
       "<table class=\"simpletable\">\n",
       "<caption>OLS Regression Results</caption>\n",
       "<tr>\n",
       "  <th>Dep. Variable:</th>         <td>rating</td>      <th>  R-squared:         </th> <td>   0.274</td>\n",
       "</tr>\n",
       "<tr>\n",
       "  <th>Model:</th>                   <td>OLS</td>       <th>  Adj. R-squared:    </th> <td>   0.212</td>\n",
       "</tr>\n",
       "<tr>\n",
       "  <th>Method:</th>             <td>Least Squares</td>  <th>  F-statistic:       </th> <td>   4.425</td>\n",
       "</tr>\n",
       "<tr>\n",
       "  <th>Date:</th>             <td>Fri, 12 Oct 2018</td> <th>  Prob (F-statistic):</th> <td>0.000326</td>\n",
       "</tr>\n",
       "<tr>\n",
       "  <th>Time:</th>                 <td>10:33:06</td>     <th>  Log-Likelihood:    </th> <td>  75.298</td>\n",
       "</tr>\n",
       "<tr>\n",
       "  <th>No. Observations:</th>      <td>    90</td>      <th>  AIC:               </th> <td>  -134.6</td>\n",
       "</tr>\n",
       "<tr>\n",
       "  <th>Df Residuals:</th>          <td>    82</td>      <th>  BIC:               </th> <td>  -114.6</td>\n",
       "</tr>\n",
       "<tr>\n",
       "  <th>Df Model:</th>              <td>     7</td>      <th>                     </th>     <td> </td>   \n",
       "</tr>\n",
       "<tr>\n",
       "  <th>Covariance Type:</th>      <td>nonrobust</td>    <th>                     </th>     <td> </td>   \n",
       "</tr>\n",
       "</table>\n",
       "<table class=\"simpletable\">\n",
       "<tr>\n",
       "           <td></td>             <th>coef</th>     <th>std err</th>      <th>t</th>      <th>P>|t|</th>  <th>[0.025</th>    <th>0.975]</th>  \n",
       "</tr>\n",
       "<tr>\n",
       "  <th>intercept</th>          <td>    1.0182</td> <td>    0.033</td> <td>   30.753</td> <td> 0.000</td> <td>    0.952</td> <td>    1.084</td>\n",
       "</tr>\n",
       "<tr>\n",
       "  <th>doggo</th>              <td>    0.0900</td> <td>    0.029</td> <td>    3.053</td> <td> 0.003</td> <td>    0.031</td> <td>    0.149</td>\n",
       "</tr>\n",
       "<tr>\n",
       "  <th>floof</th>              <td>    0.0287</td> <td>    0.049</td> <td>    0.589</td> <td> 0.558</td> <td>   -0.068</td> <td>    0.126</td>\n",
       "</tr>\n",
       "<tr>\n",
       "  <th>puppo</th>              <td>    0.0622</td> <td>    0.045</td> <td>    1.371</td> <td> 0.174</td> <td>   -0.028</td> <td>    0.152</td>\n",
       "</tr>\n",
       "<tr>\n",
       "  <th>Chihuahua</th>          <td>    0.1174</td> <td>    0.050</td> <td>    2.358</td> <td> 0.021</td> <td>    0.018</td> <td>    0.216</td>\n",
       "</tr>\n",
       "<tr>\n",
       "  <th>Labrador_retriever</th> <td>    0.1015</td> <td>    0.044</td> <td>    2.329</td> <td> 0.022</td> <td>    0.015</td> <td>    0.188</td>\n",
       "</tr>\n",
       "<tr>\n",
       "  <th>Pembroke</th>           <td>    0.1618</td> <td>    0.045</td> <td>    3.631</td> <td> 0.000</td> <td>    0.073</td> <td>    0.251</td>\n",
       "</tr>\n",
       "<tr>\n",
       "  <th>golden_retriever</th>   <td>    0.1237</td> <td>    0.040</td> <td>    3.098</td> <td> 0.003</td> <td>    0.044</td> <td>    0.203</td>\n",
       "</tr>\n",
       "</table>\n",
       "<table class=\"simpletable\">\n",
       "<tr>\n",
       "  <th>Omnibus:</th>       <td> 4.612</td> <th>  Durbin-Watson:     </th> <td>   1.713</td>\n",
       "</tr>\n",
       "<tr>\n",
       "  <th>Prob(Omnibus):</th> <td> 0.100</td> <th>  Jarque-Bera (JB):  </th> <td>   3.882</td>\n",
       "</tr>\n",
       "<tr>\n",
       "  <th>Skew:</th>          <td>-0.463</td> <th>  Prob(JB):          </th> <td>   0.144</td>\n",
       "</tr>\n",
       "<tr>\n",
       "  <th>Kurtosis:</th>      <td> 3.423</td> <th>  Cond. No.          </th> <td>    8.12</td>\n",
       "</tr>\n",
       "</table><br/><br/>Warnings:<br/>[1] Standard Errors assume that the covariance matrix of the errors is correctly specified."
      ],
      "text/plain": [
       "<class 'statsmodels.iolib.summary.Summary'>\n",
       "\"\"\"\n",
       "                            OLS Regression Results                            \n",
       "==============================================================================\n",
       "Dep. Variable:                 rating   R-squared:                       0.274\n",
       "Model:                            OLS   Adj. R-squared:                  0.212\n",
       "Method:                 Least Squares   F-statistic:                     4.425\n",
       "Date:                Fri, 12 Oct 2018   Prob (F-statistic):           0.000326\n",
       "Time:                        10:33:06   Log-Likelihood:                 75.298\n",
       "No. Observations:                  90   AIC:                            -134.6\n",
       "Df Residuals:                      82   BIC:                            -114.6\n",
       "Df Model:                           7                                         \n",
       "Covariance Type:            nonrobust                                         \n",
       "======================================================================================\n",
       "                         coef    std err          t      P>|t|      [0.025      0.975]\n",
       "--------------------------------------------------------------------------------------\n",
       "intercept              1.0182      0.033     30.753      0.000       0.952       1.084\n",
       "doggo                  0.0900      0.029      3.053      0.003       0.031       0.149\n",
       "floof                  0.0287      0.049      0.589      0.558      -0.068       0.126\n",
       "puppo                  0.0622      0.045      1.371      0.174      -0.028       0.152\n",
       "Chihuahua              0.1174      0.050      2.358      0.021       0.018       0.216\n",
       "Labrador_retriever     0.1015      0.044      2.329      0.022       0.015       0.188\n",
       "Pembroke               0.1618      0.045      3.631      0.000       0.073       0.251\n",
       "golden_retriever       0.1237      0.040      3.098      0.003       0.044       0.203\n",
       "==============================================================================\n",
       "Omnibus:                        4.612   Durbin-Watson:                   1.713\n",
       "Prob(Omnibus):                  0.100   Jarque-Bera (JB):                3.882\n",
       "Skew:                          -0.463   Prob(JB):                        0.144\n",
       "Kurtosis:                       3.423   Cond. No.                         8.12\n",
       "==============================================================================\n",
       "\n",
       "Warnings:\n",
       "[1] Standard Errors assume that the covariance matrix of the errors is correctly specified.\n",
       "\"\"\""
      ]
     },
     "execution_count": 55,
     "metadata": {},
     "output_type": "execute_result"
    }
   ],
   "source": [
    "# apply multiple linear regression model\n",
    "lm = sm.OLS(df2.rating, df2[[\"intercept\",\"doggo\",\"floof\",\"puppo\",\"Chihuahua\",\"Labrador_retriever\",\"Pembroke\",\"golden_retriever\"]])\n",
    "results = lm.fit()\n",
    "results.summary()"
   ]
  },
  {
   "cell_type": "markdown",
   "metadata": {},
   "source": [
    "> This results suggests that (in terms of dog stages) \"doggo\" has statistically significant difference from \"pupper\" and that (in terms of dog types) each of \"Chihuahua\",\"Labrador_retriever\",\"Pembroke\",\"golden_retriever\" has statistically significant difference from \"pug\".\n",
    ">\n",
    "> Also, it can be said that 27.4% of rating evaluation can be \"explained\" by these 2 factors."
   ]
  },
  {
   "cell_type": "markdown",
   "metadata": {},
   "source": [
    "### Answer1. Relationship between stages of dogs and the ratings.\n"
   ]
  },
  {
   "cell_type": "markdown",
   "metadata": {},
   "source": [
    "* Regarding dog stages, it is statsistically significant that \"doggo\" tend to get better ratings than \"pupper\".\n",
    "* Regarding dog types, it is statsistically significant that \"Chihuahua\", \"Labrador_retriever\", \"Pembroke\", and \"golden_retriever\" tend to get better ratings than \"pupper\".  \n",
    "* 27.4% of rating evaluation juege depends on these 2 factors."
   ]
  },
  {
   "cell_type": "markdown",
   "metadata": {},
   "source": [
    "### Topic2. Relationship between favorite counts and the ratings\n",
    "> In this data, we have 2 indicators that show reader's preference on tweets, which are \"favorite\" counts and \"retweet\" counts. \n",
    "> It is easily predictable that tweets with high ratings are favored and also retweeted more and also that there is a strong positive correlationship between \"favorite\" counts and \"retweet\" counts. First, this should be checked."
   ]
  },
  {
   "cell_type": "code",
   "execution_count": 56,
   "metadata": {
    "scrolled": true
   },
   "outputs": [
    {
     "data": {
      "image/png": "[encoded data removed]",
      "text/plain": [
       "<Figure size 432x288 with 1 Axes>"
      ]
     },
     "metadata": {},
     "output_type": "display_data"
    }
   ],
   "source": [
    "plt.scatter(df.fav, df.ret)\n",
    "plt.title(\"Relationship between favorite-count and retweeet-count\" )\n",
    "plt.xlabel(\"Favorite count\")\n",
    "plt.ylabel(\"Retweet count\");"
   ]
  },
  {
   "cell_type": "markdown",
   "metadata": {},
   "source": [
    "> As we predicted, these counts are correlated. This suggests that we can deem favorite counts as a reliable indicator of tweets' popularity.  In this analysis, we focus on \"favorite\" counts.\n",
    "> (And also I have noticed that there is a tweet which had by far the most favs and retweets from the graph. This would be assessed visually later. )\n",
    "> \n",
    "> We take a look at the relationship between ratings from the account and the favorite counts."
   ]
  },
  {
   "cell_type": "code",
   "execution_count": 57,
   "metadata": {
    "scrolled": true
   },
   "outputs": [
    {
     "data": {
      "image/png": "[encoded data removed]",
      "text/plain": [
       "<Figure size 432x288 with 1 Axes>"
      ]
     },
     "metadata": {},
     "output_type": "display_data"
    }
   ],
   "source": [
    "plt.scatter(df.rating, df.fav)\n",
    "plt.title(\"Relationship between ratings and favorite-count\")\n",
    "plt.ylabel(\"Favorite count\")\n",
    "plt.xlabel(\"Rating\");"
   ]
  },
  {
   "cell_type": "markdown",
   "metadata": {},
   "source": [
    "> We use simple linear regression model to interprete this result (even though it may not be the best way.)"
   ]
  },
  {
   "cell_type": "code",
   "execution_count": 58,
   "metadata": {},
   "outputs": [
    {
     "data": {
      "text/html": [
       "<table class=\"simpletable\">\n",
       "<caption>OLS Regression Results</caption>\n",
       "<tr>\n",
       "  <th>Dep. Variable:</th>           <td>fav</td>       <th>  R-squared:         </th> <td>   0.178</td> \n",
       "</tr>\n",
       "<tr>\n",
       "  <th>Model:</th>                   <td>OLS</td>       <th>  Adj. R-squared:    </th> <td>   0.177</td> \n",
       "</tr>\n",
       "<tr>\n",
       "  <th>Method:</th>             <td>Least Squares</td>  <th>  F-statistic:       </th> <td>   355.2</td> \n",
       "</tr>\n",
       "<tr>\n",
       "  <th>Date:</th>             <td>Fri, 12 Oct 2018</td> <th>  Prob (F-statistic):</th> <td>7.00e-72</td> \n",
       "</tr>\n",
       "<tr>\n",
       "  <th>Time:</th>                 <td>10:33:07</td>     <th>  Log-Likelihood:    </th> <td> -17804.</td> \n",
       "</tr>\n",
       "<tr>\n",
       "  <th>No. Observations:</th>      <td>  1645</td>      <th>  AIC:               </th> <td>3.561e+04</td>\n",
       "</tr>\n",
       "<tr>\n",
       "  <th>Df Residuals:</th>          <td>  1643</td>      <th>  BIC:               </th> <td>3.562e+04</td>\n",
       "</tr>\n",
       "<tr>\n",
       "  <th>Df Model:</th>              <td>     1</td>      <th>                     </th>     <td> </td>    \n",
       "</tr>\n",
       "<tr>\n",
       "  <th>Covariance Type:</th>      <td>nonrobust</td>    <th>                     </th>     <td> </td>    \n",
       "</tr>\n",
       "</table>\n",
       "<table class=\"simpletable\">\n",
       "<tr>\n",
       "      <td></td>         <th>coef</th>     <th>std err</th>      <th>t</th>      <th>P>|t|</th>  <th>[0.025</th>    <th>0.975]</th>  \n",
       "</tr>\n",
       "<tr>\n",
       "  <th>intercept</th> <td>-2.589e+04</td> <td> 1885.466</td> <td>  -13.729</td> <td> 0.000</td> <td>-2.96e+04</td> <td>-2.22e+04</td>\n",
       "</tr>\n",
       "<tr>\n",
       "  <th>rating</th>    <td> 3.236e+04</td> <td> 1716.991</td> <td>   18.846</td> <td> 0.000</td> <td>  2.9e+04</td> <td> 3.57e+04</td>\n",
       "</tr>\n",
       "</table>\n",
       "<table class=\"simpletable\">\n",
       "<tr>\n",
       "  <th>Omnibus:</th>       <td>1648.536</td> <th>  Durbin-Watson:     </th>  <td>   1.691</td> \n",
       "</tr>\n",
       "<tr>\n",
       "  <th>Prob(Omnibus):</th>  <td> 0.000</td>  <th>  Jarque-Bera (JB):  </th> <td>101955.703</td>\n",
       "</tr>\n",
       "<tr>\n",
       "  <th>Skew:</th>           <td> 4.749</td>  <th>  Prob(JB):          </th>  <td>    0.00</td> \n",
       "</tr>\n",
       "<tr>\n",
       "  <th>Kurtosis:</th>       <td>40.381</td>  <th>  Cond. No.          </th>  <td>    12.6</td> \n",
       "</tr>\n",
       "</table><br/><br/>Warnings:<br/>[1] Standard Errors assume that the covariance matrix of the errors is correctly specified."
      ],
      "text/plain": [
       "<class 'statsmodels.iolib.summary.Summary'>\n",
       "\"\"\"\n",
       "                            OLS Regression Results                            \n",
       "==============================================================================\n",
       "Dep. Variable:                    fav   R-squared:                       0.178\n",
       "Model:                            OLS   Adj. R-squared:                  0.177\n",
       "Method:                 Least Squares   F-statistic:                     355.2\n",
       "Date:                Fri, 12 Oct 2018   Prob (F-statistic):           7.00e-72\n",
       "Time:                        10:33:07   Log-Likelihood:                -17804.\n",
       "No. Observations:                1645   AIC:                         3.561e+04\n",
       "Df Residuals:                    1643   BIC:                         3.562e+04\n",
       "Df Model:                           1                                         \n",
       "Covariance Type:            nonrobust                                         \n",
       "==============================================================================\n",
       "                 coef    std err          t      P>|t|      [0.025      0.975]\n",
       "------------------------------------------------------------------------------\n",
       "intercept  -2.589e+04   1885.466    -13.729      0.000   -2.96e+04   -2.22e+04\n",
       "rating      3.236e+04   1716.991     18.846      0.000     2.9e+04    3.57e+04\n",
       "==============================================================================\n",
       "Omnibus:                     1648.536   Durbin-Watson:                   1.691\n",
       "Prob(Omnibus):                  0.000   Jarque-Bera (JB):           101955.703\n",
       "Skew:                           4.749   Prob(JB):                         0.00\n",
       "Kurtosis:                      40.381   Cond. No.                         12.6\n",
       "==============================================================================\n",
       "\n",
       "Warnings:\n",
       "[1] Standard Errors assume that the covariance matrix of the errors is correctly specified.\n",
       "\"\"\""
      ]
     },
     "execution_count": 58,
     "metadata": {},
     "output_type": "execute_result"
    }
   ],
   "source": [
    "df[\"intercept\"] = 1.\n",
    "lm = sm.OLS(df.fav, df[[\"intercept\",\"rating\"]])\n",
    "results = lm.fit()\n",
    "results.summary()"
   ]
  },
  {
   "cell_type": "markdown",
   "metadata": {},
   "source": [
    "> Even though this suggests that there is a positive correlationship between rating result and favorite accounts, R-squared value(0.178) tells us that there may be a better way to understand this realtionship."
   ]
  },
  {
   "cell_type": "markdown",
   "metadata": {},
   "source": [
    "### The best tweet which is extermely popular\n",
    "> We take a look at the tweet which had extermely popularity"
   ]
  },
  {
   "cell_type": "code",
   "execution_count": 59,
   "metadata": {},
   "outputs": [
    {
     "data": {
      "text/html": [
       "<div>\n",
       "<style scoped>\n",
       "    .dataframe tbody tr th:only-of-type {\n",
       "        vertical-align: middle;\n",
       "    }\n",
       "\n",
       "    .dataframe tbody tr th {\n",
       "        vertical-align: top;\n",
       "    }\n",
       "\n",
       "    .dataframe thead th {\n",
       "        text-align: right;\n",
       "    }\n",
       "</style>\n",
       "<table border=\"1\" class=\"dataframe\">\n",
       "  <thead>\n",
       "    <tr style=\"text-align: right;\">\n",
       "      <th></th>\n",
       "      <th>tweet_id</th>\n",
       "      <th>timestamp</th>\n",
       "      <th>source</th>\n",
       "      <th>text</th>\n",
       "      <th>expanded_urls</th>\n",
       "      <th>rating</th>\n",
       "      <th>stage</th>\n",
       "      <th>ret</th>\n",
       "      <th>fav</th>\n",
       "      <th>jpg_url</th>\n",
       "      <th>img_num</th>\n",
       "      <th>dog_type</th>\n",
       "      <th>intercept</th>\n",
       "    </tr>\n",
       "  </thead>\n",
       "  <tbody>\n",
       "    <tr>\n",
       "      <th>139</th>\n",
       "      <td>744234799360020481</td>\n",
       "      <td>2016-06-18 18:26:18</td>\n",
       "      <td>&lt;a href=\"http://twitter.co...</td>\n",
       "      <td>Here's a doggo realizing y...</td>\n",
       "      <td>https://twitter.com/dog_ra...</td>\n",
       "      <td>1.3</td>\n",
       "      <td>doggo</td>\n",
       "      <td>84426</td>\n",
       "      <td>165057</td>\n",
       "      <td>https://pbs.twimg.com/ext_...</td>\n",
       "      <td>1</td>\n",
       "      <td>Labrador_retriever</td>\n",
       "      <td>1.0</td>\n",
       "    </tr>\n",
       "  </tbody>\n",
       "</table>\n",
       "</div>"
      ],
      "text/plain": [
       "               tweet_id           timestamp                         source  \\\n",
       "139  744234799360020481 2016-06-18 18:26:18  <a href=\"http://twitter.co...   \n",
       "\n",
       "                              text                  expanded_urls  rating  \\\n",
       "139  Here's a doggo realizing y...  https://twitter.com/dog_ra...     1.3   \n",
       "\n",
       "     stage    ret     fav                        jpg_url  img_num  \\\n",
       "139  doggo  84426  165057  https://pbs.twimg.com/ext_...        1   \n",
       "\n",
       "               dog_type  intercept  \n",
       "139  Labrador_retriever        1.0  "
      ]
     },
     "execution_count": 59,
     "metadata": {},
     "output_type": "execute_result"
    }
   ],
   "source": [
    "best_tweet = df[df.fav == df.fav.max()]\n",
    "best_tweet"
   ]
  },
  {
   "cell_type": "code",
   "execution_count": 60,
   "metadata": {
    "scrolled": true
   },
   "outputs": [
    {
     "data": {
      "text/plain": [
       "139    Here's a doggo realizing you can stand in a pool. 13/10 enlightened af (vid by Tina Conrad) https://t.co/7wE9LTEXC4\n",
       "Name: text, dtype: object"
      ]
     },
     "execution_count": 60,
     "metadata": {},
     "output_type": "execute_result"
    }
   ],
   "source": [
    "pd.options.display.max_colwidth = 150\n",
    "best_tweet.text"
   ]
  },
  {
   "cell_type": "markdown",
   "metadata": {},
   "source": [
    "> I checked the tweet visulally by jumping to the link, but what I have found was just a movie in which a dog is swimming in the pool. It may be said that an ordinary tweet sometimes attracts enormous attention unexpectedly. "
   ]
  },
  {
   "cell_type": "markdown",
   "metadata": {},
   "source": [
    "### Answer2. Relationship between favorite counts and the ratings\n",
    " \n",
    "*  There is a positive correlationship between rating result and favorite accounts.\n",
    "*  This relationship is not completely explained by a linear model."
   ]
  },
  {
   "cell_type": "markdown",
   "metadata": {},
   "source": [
    "<a id='conclusions'></a>\n",
    "# Conclusions"
   ]
  },
  {
   "cell_type": "markdown",
   "metadata": {},
   "source": [
    ">In this analysis, we focused on the tweet data from a dog-rating twitter account. We began from getting data from api. Then we cleaned and finally analyzed the data. \n",
    ">\n",
    ">We found that some some dog stages and types get higher ratings from the account. Favorite count, which is a great indicater of the popularity of tweets, tend to be more for the tweets which are more highly evaluated. However, it is not sure whether more readers favored because they found that the tweet had higher rating, or because pictures themselves are wonderful worth great rating. "
   ]
  },
  {
   "cell_type": "markdown",
   "metadata": {},
   "source": [
    "<a id='reference'></a>\n",
    "# Reference"
   ]
  },
  {
   "cell_type": "markdown",
   "metadata": {},
   "source": [
    "* tweet data of \"WeRateDogs (@dog_rates)\" from https://twitter.com/dog_rates\n",
    "* 'image_predictions.tsv' file from \"https://d17h27t6h515a5.cloudfront.net/topher/2017/August/599fd2ad_image-predictions/image-predictions.tsv\""
   ]
  }
 ],
 "metadata": {
  "kernelspec": {
   "display_name": "Python [default]",
   "language": "python",
   "name": "python3"
  },
  "language_info": {
   "codemirror_mode": {
    "name": "ipython",
    "version": 3
   },
   "file_extension": ".py",
   "mimetype": "text/x-python",
   "name": "python",
   "nbconvert_exporter": "python",
   "pygments_lexer": "ipython3",
   "version": "3.6.6"
  }
 },
 "nbformat": 4,
 "nbformat_minor": 2
}
